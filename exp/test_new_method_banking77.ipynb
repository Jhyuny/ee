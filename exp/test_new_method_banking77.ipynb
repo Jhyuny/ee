{
 "cells": [
  {
   "cell_type": "code",
   "execution_count": 1,
   "metadata": {},
   "outputs": [
    {
     "name": "stderr",
     "output_type": "stream",
     "text": [
      "/home/aix7101/anaconda3/envs/j_knnee/lib/python3.10/site-packages/tqdm/auto.py:21: TqdmWarning: IProgress not found. Please update jupyter and ipywidgets. See https://ipywidgets.readthedocs.io/en/stable/user_install.html\n",
      "  from .autonotebook import tqdm as notebook_tqdm\n"
     ]
    }
   ],
   "source": [
    "from datasets import load_dataset\n",
    "from transformers import BertModel, BertConfig, BertForSequenceClassification, BertTokenizer\n",
    "import torch\n",
    "import torch.nn as nn\n",
    "import pandas as pd\n",
    "from tqdm import tqdm\n",
    "import os\n",
    "\n",
    "import torch.optim as optim\n",
    "\n",
    "import matplotlib.pyplot as plt"
   ]
  },
  {
   "cell_type": "code",
   "execution_count": 2,
   "metadata": {},
   "outputs": [],
   "source": [
    "# parameters\n",
    "\n",
    "#-- setting custom model\n",
    "total_l = 9\n",
    "trans_l = 3\n",
    "base_model = \"google-bert/bert-base-uncased\"\n",
    "model_name = \"sharmax-vikas/bert-base-banking77-pt2\"\n",
    "\n",
    "dataset_name = \"PolyAI/banking77\"\n",
    "\n",
    "#-- setting result name\n",
    "result_name = \"banking_9_3\"\n",
    "model_save_path = f\"/mnt/aix7101/jeong/ee/{result_name}.pt\"\n",
    "\n",
    "#-- setting training\n",
    "train_strategy = \"low_lr\"  # 'freeze', 'low_lr', 'unfreeze'\n",
    "num_epoch = 10\n",
    "num_unfreeze = 3 "
   ]
  },
  {
   "cell_type": "code",
   "execution_count": 3,
   "metadata": {},
   "outputs": [
    {
     "name": "stderr",
     "output_type": "stream",
     "text": [
      "Downloading data: 100%|██████████| 839k/839k [00:00<00:00, 10.9MB/s]\n",
      "Downloading data: 100%|██████████| 240k/240k [00:00<00:00, 11.4MB/s]\n",
      "Generating train split: 100%|██████████| 10003/10003 [00:00<00:00, 62724.81 examples/s]\n",
      "Generating test split: 100%|██████████| 3080/3080 [00:00<00:00, 54663.25 examples/s]\n"
     ]
    }
   ],
   "source": [
    "db = load_dataset(dataset_name)"
   ]
  },
  {
   "cell_type": "code",
   "execution_count": 4,
   "metadata": {},
   "outputs": [
    {
     "name": "stdout",
     "output_type": "stream",
     "text": [
      "DatasetDict({\n",
      "    train: Dataset({\n",
      "        features: ['text', 'label'],\n",
      "        num_rows: 10003\n",
      "    })\n",
      "    test: Dataset({\n",
      "        features: ['text', 'label'],\n",
      "        num_rows: 3080\n",
      "    })\n",
      "})\n"
     ]
    }
   ],
   "source": [
    "print(db)"
   ]
  },
  {
   "cell_type": "code",
   "execution_count": 5,
   "metadata": {},
   "outputs": [],
   "source": [
    "# load train dataset\n",
    "train_dataset = load_dataset(dataset_name, split=\"train\")\n",
    "\n",
    "# load validation dataset\n",
    "val_dataset = load_dataset(dataset_name, split=\"test\")"
   ]
  },
  {
   "cell_type": "code",
   "execution_count": 6,
   "metadata": {},
   "outputs": [],
   "source": [
    "device = torch.device(\"cuda\" if torch.cuda.is_available() else \"cpu\")\n",
    "dropout = nn.Dropout(p=0.1).to(device) # in BERT default 0.1"
   ]
  },
  {
   "cell_type": "code",
   "execution_count": 7,
   "metadata": {},
   "outputs": [],
   "source": [
    "# setting\n",
    "from transformers import AutoTokenizer, AutoModelForSequenceClassification\n",
    "\n",
    "tokenizer = AutoTokenizer.from_pretrained(model_name)\n",
    "model = AutoModelForSequenceClassification.from_pretrained(model_name, output_hidden_states=True).eval().to(device)"
   ]
  },
  {
   "cell_type": "code",
   "execution_count": 8,
   "metadata": {},
   "outputs": [
    {
     "name": "stderr",
     "output_type": "stream",
     "text": [
      "100%|██████████| 3080/3080 [00:20<00:00, 153.12it/s]"
     ]
    },
    {
     "name": "stdout",
     "output_type": "stream",
     "text": [
      "✅ Accuracy: 93.64%\n",
      "✅ F1 Score (macro): 0.9365\n"
     ]
    },
    {
     "name": "stderr",
     "output_type": "stream",
     "text": [
      "\n"
     ]
    }
   ],
   "source": [
    "from tqdm import tqdm\n",
    "from sklearn.metrics import f1_score\n",
    "\n",
    "correct = 0\n",
    "total = 0\n",
    "all_preds = []\n",
    "all_labels = []\n",
    "\n",
    "model.eval()\n",
    "\n",
    "for batch in tqdm(val_dataset):\n",
    "    with torch.no_grad():\n",
    "        # Tokenize single sample\n",
    "        inputs = tokenizer(batch[\"text\"], return_tensors=\"pt\", padding=True, truncation=True).to(device)\n",
    "        label = torch.tensor(batch[\"label\"]).to(device)\n",
    "\n",
    "        # Predict\n",
    "        logits = model(**inputs).logits\n",
    "        pred = torch.argmax(logits, dim=1).item()\n",
    "\n",
    "        # Accuracy\n",
    "        correct += int(pred == label.item())\n",
    "        total += 1\n",
    "\n",
    "        # F1 계산용 저장\n",
    "        all_preds.append(pred)\n",
    "        all_labels.append(label.item())\n",
    "\n",
    "# Accuracy\n",
    "acc = correct / total * 100\n",
    "\n",
    "# F1 Score (macro 방식 추천 - 다중 클래스일 때)\n",
    "f1 = f1_score(all_labels, all_preds, average=\"macro\")\n",
    "\n",
    "print(f\"✅ Accuracy: {acc:.2f}%\")\n",
    "print(f\"✅ F1 Score (macro): {f1:.4f}\")"
   ]
  },
  {
   "cell_type": "markdown",
   "metadata": {},
   "source": [
    "## Custom model"
   ]
  },
  {
   "cell_type": "code",
   "execution_count": 9,
   "metadata": {},
   "outputs": [],
   "source": [
    "from transformers import BertModel, BertConfig, BertForSequenceClassification\n",
    "import torch.nn as nn\n",
    "import torch\n",
    "\n",
    "class CustomBertSmall(nn.Module):\n",
    "    def __init__(self, teacher_model, total_layers=6, transplanted_layers=3):\n",
    "        super().__init__()\n",
    "        assert transplanted_layers < total_layers, \"Transplanted layers must be fewer than total layers\"\n",
    "        \n",
    "        self.hidden_size = teacher_model.config.hidden_size\n",
    "        self.total_layers = total_layers\n",
    "        self.transplanted_layers = transplanted_layers\n",
    "\n",
    "        # 그대로 복사할 레이어 인덱스 계산\n",
    "        transplanted_start = 12 - transplanted_layers\n",
    "        original_layer_indices = list(range(transplanted_start))[:total_layers - transplanted_layers]\n",
    "\n",
    "        # Embedding 복사\n",
    "        self.embeddings = teacher_model.bert.embeddings\n",
    "\n",
    "        # 선택된 layer만 복사해서 재구성\n",
    "        self.encoder_layers = nn.ModuleList()\n",
    "\n",
    "        for idx in original_layer_indices:\n",
    "            layer = teacher_model.bert.encoder.layer[idx]\n",
    "            self.encoder_layers.append(layer)\n",
    "\n",
    "        for idx in range(transplanted_start, 12):\n",
    "            layer = teacher_model.bert.encoder.layer[idx]\n",
    "            self.encoder_layers.append(layer)\n",
    "\n",
    "        # Pooler와 Classifier도 복사\n",
    "        self.pooler = teacher_model.bert.pooler\n",
    "        self.dropout = teacher_model.dropout  # from classifier head\n",
    "        self.classifier = teacher_model.classifier\n",
    "\n",
    "        self.activation = nn.Tanh()  # 여전히 pooler 내부에서도 사용되지만 보존\n",
    "\n",
    "    # CustomBertSmall에 hidden_states 옵션 추가\n",
    "    def forward(self, input_ids, attention_mask=None, token_type_ids=None, output_hidden_states=False):\n",
    "        hidden_states = self.embeddings(input_ids=input_ids, token_type_ids=token_type_ids)\n",
    "\n",
    "        if attention_mask is not None:\n",
    "            extended_attention_mask = attention_mask[:, None, None, :]\n",
    "            extended_attention_mask = (1.0 - extended_attention_mask) * -10000.0\n",
    "        else:\n",
    "            extended_attention_mask = None\n",
    "\n",
    "        all_hidden = []  # 각 레이어 출력 저장\n",
    "        for layer in self.encoder_layers:\n",
    "            hidden_states = layer(hidden_states, attention_mask=extended_attention_mask)[0]\n",
    "            if output_hidden_states:\n",
    "                all_hidden.append(hidden_states)\n",
    "\n",
    "        pooled_output = self.pooler(hidden_states)\n",
    "        pooled_output = self.dropout(self.activation(pooled_output))\n",
    "        logits = self.classifier(pooled_output)\n",
    "\n",
    "        if output_hidden_states:\n",
    "            return logits, all_hidden\n",
    "        else:\n",
    "            return logits"
   ]
  },
  {
   "cell_type": "code",
   "execution_count": 10,
   "metadata": {},
   "outputs": [
    {
     "name": "stderr",
     "output_type": "stream",
     "text": [
      "Some weights of BertForSequenceClassification were not initialized from the model checkpoint at google-bert/bert-base-uncased and are newly initialized: ['classifier.bias', 'classifier.weight']\n",
      "You should probably TRAIN this model on a down-stream task to be able to use it for predictions and inference.\n"
     ]
    }
   ],
   "source": [
    "from transformers import AutoTokenizer, AutoModelForSequenceClassification\n",
    "\n",
    "# model_name = \"textattack/bert-base-uncased-ag-news\"\n",
    "\n",
    "teacher_model = BertForSequenceClassification.from_pretrained(base_model, num_labels=77,)\n",
    "\n",
    "small_model = CustomBertSmall(\n",
    "    teacher_model=teacher_model,\n",
    "    total_layers=total_l,\n",
    "    transplanted_layers=trans_l,  # 마지막 l개 레이어 복사\n",
    ").to(device)"
   ]
  },
  {
   "cell_type": "markdown",
   "metadata": {},
   "source": [
    "## [check] before training"
   ]
  },
  {
   "cell_type": "code",
   "execution_count": 11,
   "metadata": {},
   "outputs": [
    {
     "name": "stderr",
     "output_type": "stream",
     "text": [
      "Evaluating Small Model: 100%|██████████| 3080/3080 [00:34<00:00, 89.86it/s]"
     ]
    },
    {
     "name": "stdout",
     "output_type": "stream",
     "text": [
      "\n",
      "✅ Accuracy of BERT-base: 93.64%\n",
      "✅ F1 Score of BERT-base: 0.9365\n",
      "\n",
      "✅ Accuracy of CustomBertSmall: 1.43%\n",
      "✅ F1 Score of CustomBertSmall: 0.0011\n"
     ]
    },
    {
     "name": "stderr",
     "output_type": "stream",
     "text": [
      "\n"
     ]
    }
   ],
   "source": [
    "from sklearn.metrics import f1_score\n",
    "from tqdm import tqdm\n",
    "\n",
    "# Accuracy 카운터\n",
    "correct_base = 0\n",
    "correct_small = 0\n",
    "\n",
    "# F1 계산용 리스트\n",
    "base_preds = []\n",
    "small_preds = []\n",
    "all_labels = []\n",
    "\n",
    "model.eval()\n",
    "small_model.eval()\n",
    "\n",
    "for item in tqdm(val_dataset, desc=\"Evaluating Small Model\"):\n",
    "    text = item[\"text\"]\n",
    "    label = item[\"label\"]\n",
    "\n",
    "    inputs = tokenizer(text, return_tensors=\"pt\", truncation=True, padding=True).to(device)\n",
    "\n",
    "    with torch.no_grad():\n",
    "        # BERT-base\n",
    "        output = model(**inputs)\n",
    "        logits = output.logits\n",
    "        pred = torch.argmax(logits, dim=-1).item()\n",
    "\n",
    "        # Small model\n",
    "        small_logits = small_model(**inputs)\n",
    "        small_pred = torch.argmax(small_logits, dim=-1).item()\n",
    "\n",
    "    correct_base += int(pred == label)\n",
    "    correct_small += int(small_pred == label)\n",
    "\n",
    "    # F1 계산용 저장\n",
    "    base_preds.append(pred)\n",
    "    small_preds.append(small_pred)\n",
    "    all_labels.append(label)\n",
    "\n",
    "# Accuracy\n",
    "total = len(val_dataset)\n",
    "acc_base = correct_base / total * 100\n",
    "acc_small = correct_small / total * 100\n",
    "\n",
    "# F1 Score (macro 방식 추천)\n",
    "f1_base = f1_score(all_labels, base_preds, average=\"macro\")\n",
    "f1_small = f1_score(all_labels, small_preds, average=\"macro\")\n",
    "\n",
    "# 출력\n",
    "print(f\"\\n✅ Accuracy of BERT-base: {acc_base:.2f}%\")\n",
    "print(f\"✅ F1 Score of BERT-base: {f1_base:.4f}\")\n",
    "\n",
    "print(f\"\\n✅ Accuracy of CustomBertSmall: {acc_small:.2f}%\")\n",
    "print(f\"✅ F1 Score of CustomBertSmall: {f1_small:.4f}\")"
   ]
  },
  {
   "cell_type": "markdown",
   "metadata": {},
   "source": [
    "## Custom Loss"
   ]
  },
  {
   "cell_type": "code",
   "execution_count": 12,
   "metadata": {},
   "outputs": [],
   "source": [
    "import torch.nn.functional as F\n",
    "from torch.nn import MSELoss, KLDivLoss\n",
    "\n",
    "def loss1(logits, labels):\n",
    "    return F.cross_entropy(logits, labels)\n",
    "\n",
    "# Representation Matching Loss (MSE between CLS tokens)\n",
    "def loss2(student_hidden, teacher_hidden):\n",
    "    mse = MSELoss()\n",
    "    return mse(student_hidden, teacher_hidden)\n",
    "\n",
    "# DSR Loss (KL Divergence between sorted logits)\n",
    "def loss3(prev_logits, current_logits, tau=1.0):\n",
    "    z_prev = torch.sort(prev_logits, dim=-1)[0]\n",
    "    z_current = torch.sort(current_logits, dim=-1)[0]\n",
    "\n",
    "    p_prev = F.softmax(z_prev / tau, dim=-1)\n",
    "    p_current = F.log_softmax(z_current / tau, dim=-1)\n",
    "\n",
    "    kldiv = KLDivLoss(reduction='batchmean')\n",
    "    return (tau ** 2 / 2) * kldiv(p_current, p_prev)  # KL(p_prev || p_current)"
   ]
  },
  {
   "cell_type": "code",
   "execution_count": 13,
   "metadata": {},
   "outputs": [],
   "source": [
    "import torch\n",
    "import torch.nn.functional as F\n",
    "\n",
    "def compute_cka(X: torch.Tensor, Y: torch.Tensor, eps=1e-8):\n",
    "    X = X - X.mean(dim=0, keepdim=True)\n",
    "    Y = Y - Y.mean(dim=0, keepdim=True)\n",
    "\n",
    "    dot_product_similarity = (X.T @ Y).norm(p='fro') ** 2\n",
    "    normalization_x = (X.T @ X).norm(p='fro')\n",
    "    normalization_y = (Y.T @ Y).norm(p='fro')\n",
    "    return dot_product_similarity / (normalization_x * normalization_y + eps)\n",
    "\n",
    "def cka_delta_loss(h_teacher_bef, h_teacher_aft, h_student_bef, h_student_aft):\n",
    "    delta_t = h_teacher_aft - h_teacher_bef\n",
    "    delta_s = h_student_aft - h_student_bef\n",
    "    t = delta_t[:, 0, :]  # CLS\n",
    "    s = delta_s[:, 0, :]\n",
    "    return 1 - compute_cka(t, s)"
   ]
  },
  {
   "cell_type": "markdown",
   "metadata": {},
   "source": [
    "## Train"
   ]
  },
  {
   "cell_type": "code",
   "execution_count": 14,
   "metadata": {},
   "outputs": [],
   "source": [
    "def evaluate(model, val_loader, tokenizer, device):\n",
    "    model.eval()\n",
    "    correct = 0\n",
    "    total = 0\n",
    "\n",
    "    with torch.no_grad():\n",
    "        for batch in tqdm(val_loader, desc=\"Evaluating\"):\n",
    "            text = batch[\"text\"][0]\n",
    "            label = batch[\"label\"].item()\n",
    "\n",
    "            inputs = tokenizer(text, return_tensors=\"pt\", padding=True, truncation=True).to(device)\n",
    "            logits = model(**inputs)\n",
    "            pred = torch.argmax(logits, dim=-1).item()\n",
    "\n",
    "            correct += int(pred == label)\n",
    "            total += 1\n",
    "\n",
    "    return correct / total * 100"
   ]
  },
  {
   "cell_type": "code",
   "execution_count": 15,
   "metadata": {},
   "outputs": [],
   "source": [
    "# import torch\n",
    "\n",
    "# labels = torch.tensor(train_dataset[\"label\"])\n",
    "# print(\"Label dtype:\", labels.dtype)\n",
    "# print(\"Label min:\", labels.min().item())\n",
    "# print(\"Label max:\", labels.max().item())"
   ]
  },
  {
   "cell_type": "code",
   "execution_count": 16,
   "metadata": {},
   "outputs": [],
   "source": [
    "import torch\n",
    "from transformers import BertForSequenceClassification, AutoTokenizer\n",
    "import matplotlib.pyplot as plt\n",
    "from tqdm import tqdm\n",
    "import torch.nn as nn\n",
    "import torch.nn.functional as F\n",
    "from torch.utils.data import DataLoader\n",
    "from torch.optim import AdamW\n",
    "\n",
    "def train_custom_model(\n",
    "    model,\n",
    "    train_dataset,\n",
    "    val_dataset,\n",
    "    tokenizer,\n",
    "    teacher_model=None,  # 👈 custom loss를 쓸 경우 필요\n",
    "    custom_loss=False,   # 👈 Loss type 선택\n",
    "    strategy=\"freeze\",\n",
    "    batch_size=16,\n",
    "    epochs=10,\n",
    "    base_lr=5e-5,\n",
    "    low_lr=5e-6,\n",
    "    k=3,\n",
    "    alpha=0.3,           # 👈 custom loss 비중\n",
    "    unfreeze_epoch=1,\n",
    "    save_path=\"best_model.pt\",\n",
    "    device=\"cuda\" if torch.cuda.is_available() else \"cpu\"\n",
    "):\n",
    "    model = model.to(device)\n",
    "    if custom_loss and teacher_model is None:\n",
    "        raise ValueError(\"teacher_model must be provided when using custom_loss=True\")\n",
    "\n",
    "    train_loader = DataLoader(train_dataset, batch_size=batch_size, shuffle=True)\n",
    "    val_loader = DataLoader(val_dataset, batch_size=1)\n",
    "\n",
    "    if strategy == \"low_lr\":\n",
    "        optimizer_grouped = [\n",
    "            {\"params\": [p for l in model.encoder_layers[:-k] for p in l.parameters()], \"lr\": base_lr},\n",
    "            {\"params\": [p for l in model.encoder_layers[-k:] for p in l.parameters()], \"lr\": low_lr},\n",
    "            {\"params\": model.pooler.parameters(), \"lr\": base_lr},\n",
    "            {\"params\": model.classifier.parameters(), \"lr\": base_lr},\n",
    "        ]\n",
    "    else:\n",
    "        optimizer_grouped = model.parameters()\n",
    "\n",
    "    optimizer = AdamW(optimizer_grouped, lr=base_lr)\n",
    "    loss_fn = nn.CrossEntropyLoss()\n",
    "\n",
    "    if strategy == \"freeze\":\n",
    "        for layer in model.encoder_layers[-k:]:\n",
    "            for param in layer.parameters():\n",
    "                param.requires_grad = False\n",
    "        ##-- freeze first layer\n",
    "        # for param in model.encoder_layers[0].parameters():\n",
    "        #     param.requires_grad = False\n",
    "\n",
    "    best_acc = 0.0\n",
    "\n",
    "    for epoch in range(epochs):\n",
    "        model.train()\n",
    "        total_loss = 0\n",
    "        print(f\"\\nEpoch {epoch+1}/{epochs}\")\n",
    "\n",
    "        if strategy == \"unfreeze\" and epoch == unfreeze_epoch:\n",
    "            print(\"--<Unfreezing last K layers>--\")\n",
    "            for layer in model.encoder_layers[-k:]:\n",
    "                for param in layer.parameters():\n",
    "                    param.requires_grad = True\n",
    "\n",
    "        for batch in tqdm(train_loader, desc=\"Training\"):\n",
    "            texts = batch[\"text\"]\n",
    "            labels = batch[\"label\"]\n",
    "\n",
    "            tokenized = tokenizer(list(texts), return_tensors=\"pt\", padding=True, truncation=True)\n",
    "            inputs = {k: v.to(device) for k, v in tokenized.items()}\n",
    "            labels = labels.to(device)\n",
    "\n",
    "            optimizer.zero_grad()\n",
    "\n",
    "            if custom_loss:\n",
    "                # ----> Custom Loss: CE + CKA delta loss\n",
    "                logits_small, student_hiddens = model(**inputs, output_hidden_states=True)\n",
    "                ce_loss = loss_fn(logits_small, labels)\n",
    "\n",
    "                with torch.no_grad():\n",
    "                    teacher_outputs = teacher_model(**inputs, output_hidden_states=True)\n",
    "                    h_teacher_bef = teacher_outputs.hidden_states[(-1)-(k+1)]\n",
    "                    h_teacher_aft = teacher_outputs.hidden_states[(-1)-k]\n",
    "\n",
    "                h_student_bef = student_hiddens[(-1)-(k+1)]\n",
    "                h_student_aft = student_hiddens[(-1)-k]\n",
    "\n",
    "                cka_loss = cka_delta_loss(h_teacher_bef, h_teacher_aft, h_student_bef, h_student_aft)\n",
    "                loss = ce_loss + alpha * cka_loss\n",
    "            else:\n",
    "                # ----> 기본 CE Loss만 사용\n",
    "                logits = model(**inputs)\n",
    "                loss = loss_fn(logits, labels)\n",
    "\n",
    "            loss.backward()\n",
    "            optimizer.step()\n",
    "            total_loss += loss.item()\n",
    "\n",
    "        avg_loss = total_loss / len(train_loader)\n",
    "        print(f\"Avg Training Loss: {avg_loss:.4f}\")\n",
    "\n",
    "        acc = evaluate(model, val_loader, tokenizer, device)\n",
    "        print(f\"Validation Accuracy: {acc:.2f}%\")\n",
    "\n",
    "        if acc > best_acc:\n",
    "            best_acc = acc\n",
    "            torch.save(model.state_dict(), save_path)\n",
    "            print(f\"✅ New best model saved with accuracy: {best_acc:.2f}% → {save_path}\")"
   ]
  },
  {
   "cell_type": "code",
   "execution_count": 17,
   "metadata": {},
   "outputs": [
    {
     "name": "stdout",
     "output_type": "stream",
     "text": [
      "\n",
      "Epoch 1/10\n"
     ]
    },
    {
     "name": "stderr",
     "output_type": "stream",
     "text": [
      "Training: 100%|██████████| 626/626 [00:32<00:00, 19.08it/s]\n"
     ]
    },
    {
     "name": "stdout",
     "output_type": "stream",
     "text": [
      "Avg Training Loss: 2.3174\n"
     ]
    },
    {
     "name": "stderr",
     "output_type": "stream",
     "text": [
      "Evaluating: 100%|██████████| 3080/3080 [00:15<00:00, 200.44it/s]\n"
     ]
    },
    {
     "name": "stdout",
     "output_type": "stream",
     "text": [
      "Validation Accuracy: 83.96%\n",
      "✅ New best model saved with accuracy: 83.96% → /mnt/aix7101/jeong/ee/banking_9_3.pt\n",
      "\n",
      "Epoch 2/10\n"
     ]
    },
    {
     "name": "stderr",
     "output_type": "stream",
     "text": [
      "Training: 100%|██████████| 626/626 [00:32<00:00, 19.47it/s]\n"
     ]
    },
    {
     "name": "stdout",
     "output_type": "stream",
     "text": [
      "Avg Training Loss: 0.5533\n"
     ]
    },
    {
     "name": "stderr",
     "output_type": "stream",
     "text": [
      "Evaluating: 100%|██████████| 3080/3080 [00:15<00:00, 197.15it/s]\n"
     ]
    },
    {
     "name": "stdout",
     "output_type": "stream",
     "text": [
      "Validation Accuracy: 91.30%\n",
      "✅ New best model saved with accuracy: 91.30% → /mnt/aix7101/jeong/ee/banking_9_3.pt\n",
      "\n",
      "Epoch 3/10\n"
     ]
    },
    {
     "name": "stderr",
     "output_type": "stream",
     "text": [
      "Training: 100%|██████████| 626/626 [00:33<00:00, 18.56it/s]\n"
     ]
    },
    {
     "name": "stdout",
     "output_type": "stream",
     "text": [
      "Avg Training Loss: 0.2638\n"
     ]
    },
    {
     "name": "stderr",
     "output_type": "stream",
     "text": [
      "Evaluating: 100%|██████████| 3080/3080 [00:16<00:00, 191.20it/s]\n"
     ]
    },
    {
     "name": "stdout",
     "output_type": "stream",
     "text": [
      "Validation Accuracy: 91.43%\n",
      "✅ New best model saved with accuracy: 91.43% → /mnt/aix7101/jeong/ee/banking_9_3.pt\n",
      "\n",
      "Epoch 4/10\n"
     ]
    },
    {
     "name": "stderr",
     "output_type": "stream",
     "text": [
      "Training: 100%|██████████| 626/626 [00:31<00:00, 19.66it/s]\n"
     ]
    },
    {
     "name": "stdout",
     "output_type": "stream",
     "text": [
      "Avg Training Loss: 0.1624\n"
     ]
    },
    {
     "name": "stderr",
     "output_type": "stream",
     "text": [
      "Evaluating: 100%|██████████| 3080/3080 [00:15<00:00, 194.83it/s]\n"
     ]
    },
    {
     "name": "stdout",
     "output_type": "stream",
     "text": [
      "Validation Accuracy: 90.88%\n",
      "\n",
      "Epoch 5/10\n"
     ]
    },
    {
     "name": "stderr",
     "output_type": "stream",
     "text": [
      "Training: 100%|██████████| 626/626 [00:31<00:00, 19.83it/s]\n"
     ]
    },
    {
     "name": "stdout",
     "output_type": "stream",
     "text": [
      "Avg Training Loss: 0.1120\n"
     ]
    },
    {
     "name": "stderr",
     "output_type": "stream",
     "text": [
      "Evaluating: 100%|██████████| 3080/3080 [00:16<00:00, 185.31it/s]\n"
     ]
    },
    {
     "name": "stdout",
     "output_type": "stream",
     "text": [
      "Validation Accuracy: 90.84%\n",
      "\n",
      "Epoch 6/10\n"
     ]
    },
    {
     "name": "stderr",
     "output_type": "stream",
     "text": [
      "Training: 100%|██████████| 626/626 [00:32<00:00, 19.13it/s]\n"
     ]
    },
    {
     "name": "stdout",
     "output_type": "stream",
     "text": [
      "Avg Training Loss: 0.0959\n"
     ]
    },
    {
     "name": "stderr",
     "output_type": "stream",
     "text": [
      "Evaluating: 100%|██████████| 3080/3080 [00:16<00:00, 187.41it/s]\n"
     ]
    },
    {
     "name": "stdout",
     "output_type": "stream",
     "text": [
      "Validation Accuracy: 91.69%\n",
      "✅ New best model saved with accuracy: 91.69% → /mnt/aix7101/jeong/ee/banking_9_3.pt\n",
      "\n",
      "Epoch 7/10\n"
     ]
    },
    {
     "name": "stderr",
     "output_type": "stream",
     "text": [
      "Training: 100%|██████████| 626/626 [00:32<00:00, 19.09it/s]\n"
     ]
    },
    {
     "name": "stdout",
     "output_type": "stream",
     "text": [
      "Avg Training Loss: 0.0666\n"
     ]
    },
    {
     "name": "stderr",
     "output_type": "stream",
     "text": [
      "Evaluating: 100%|██████████| 3080/3080 [00:16<00:00, 187.78it/s]\n"
     ]
    },
    {
     "name": "stdout",
     "output_type": "stream",
     "text": [
      "Validation Accuracy: 91.59%\n",
      "\n",
      "Epoch 8/10\n"
     ]
    },
    {
     "name": "stderr",
     "output_type": "stream",
     "text": [
      "Training: 100%|██████████| 626/626 [00:33<00:00, 18.95it/s]\n"
     ]
    },
    {
     "name": "stdout",
     "output_type": "stream",
     "text": [
      "Avg Training Loss: 0.0754\n"
     ]
    },
    {
     "name": "stderr",
     "output_type": "stream",
     "text": [
      "Evaluating: 100%|██████████| 3080/3080 [00:16<00:00, 185.60it/s]\n"
     ]
    },
    {
     "name": "stdout",
     "output_type": "stream",
     "text": [
      "Validation Accuracy: 90.84%\n",
      "\n",
      "Epoch 9/10\n"
     ]
    },
    {
     "name": "stderr",
     "output_type": "stream",
     "text": [
      "Training: 100%|██████████| 626/626 [00:33<00:00, 18.78it/s]\n"
     ]
    },
    {
     "name": "stdout",
     "output_type": "stream",
     "text": [
      "Avg Training Loss: 0.0793\n"
     ]
    },
    {
     "name": "stderr",
     "output_type": "stream",
     "text": [
      "Evaluating: 100%|██████████| 3080/3080 [00:16<00:00, 186.87it/s]\n"
     ]
    },
    {
     "name": "stdout",
     "output_type": "stream",
     "text": [
      "Validation Accuracy: 91.10%\n",
      "\n",
      "Epoch 10/10\n"
     ]
    },
    {
     "name": "stderr",
     "output_type": "stream",
     "text": [
      "Training: 100%|██████████| 626/626 [00:33<00:00, 18.87it/s]\n"
     ]
    },
    {
     "name": "stdout",
     "output_type": "stream",
     "text": [
      "Avg Training Loss: 0.0508\n"
     ]
    },
    {
     "name": "stderr",
     "output_type": "stream",
     "text": [
      "Evaluating: 100%|██████████| 3080/3080 [00:16<00:00, 185.49it/s]\n"
     ]
    },
    {
     "name": "stdout",
     "output_type": "stream",
     "text": [
      "Validation Accuracy: 91.75%\n",
      "✅ New best model saved with accuracy: 91.75% → /mnt/aix7101/jeong/ee/banking_9_3.pt\n"
     ]
    }
   ],
   "source": [
    "train_custom_model(\n",
    "    model=small_model,\n",
    "    teacher_model=model,\n",
    "    train_dataset=train_dataset,\n",
    "    val_dataset=val_dataset,\n",
    "    tokenizer=tokenizer,\n",
    "    custom_loss=True,              # ✅ 사용\n",
    "    alpha=0.3,                     # CKA 가중치\n",
    "    k=trans_l,\n",
    "    strategy=\"train_strategy\",\n",
    "    unfreeze_epoch=num_unfreeze,\n",
    "    epochs=num_epoch,\n",
    "    save_path=model_save_path\n",
    ")"
   ]
  },
  {
   "cell_type": "code",
   "execution_count": 18,
   "metadata": {},
   "outputs": [],
   "source": [
    "# # 학습 시작\n",
    "# train_custom_model(\n",
    "#     model=small_model,\n",
    "#     train_dataset=train_dataset,\n",
    "#     val_dataset=val_dataset,\n",
    "#     tokenizer=tokenizer,\n",
    "#     strategy=train_strategy,  # 'freeze', 'low_lr', 'unfreeze'\n",
    "#     epochs=num_epoch,\n",
    "#     batch_size=16,\n",
    "#     base_lr=5e-5,\n",
    "#     low_lr=5e-6,\n",
    "#     k=2,  # 마지막 3개 레이어를 보존\n",
    "#     unfreeze_epoch=num_unfreeze,\n",
    "#     save_path=model_save_path\n",
    "# )"
   ]
  },
  {
   "cell_type": "markdown",
   "metadata": {},
   "source": [
    "## [check] after training"
   ]
  },
  {
   "cell_type": "code",
   "execution_count": 19,
   "metadata": {},
   "outputs": [],
   "source": [
    "# load model\n",
    "\n",
    "small_model.load_state_dict(torch.load(model_save_path, map_location=device))\n",
    "small_model = small_model.eval().to(device)\n"
   ]
  },
  {
   "cell_type": "code",
   "execution_count": 20,
   "metadata": {},
   "outputs": [
    {
     "name": "stderr",
     "output_type": "stream",
     "text": [
      "Evaluating Small Model: 100%|██████████| 3080/3080 [00:36<00:00, 84.50it/s]"
     ]
    },
    {
     "name": "stdout",
     "output_type": "stream",
     "text": [
      "\n",
      "✅ Accuracy of Bertbase: 93.64%\n",
      "\n",
      "✅ Accuracy of CustomBertSmall: 91.75%\n"
     ]
    },
    {
     "name": "stderr",
     "output_type": "stream",
     "text": [
      "\n"
     ]
    }
   ],
   "source": [
    "# for accuracy with small model\n",
    "correct_base = 0\n",
    "correct_small = 0\n",
    "\n",
    "model.eval()\n",
    "small_model.eval()\n",
    "\n",
    "for item in tqdm(val_dataset, desc=\"Evaluating Small Model\"):\n",
    "    text = item[\"text\"]\n",
    "    label = item[\"label\"]\n",
    "\n",
    "    # inputs\n",
    "    inputs = tokenizer(text, return_tensors=\"pt\", truncation=True, padding=True).to(device)\n",
    "\n",
    "    # Teacher model (BertForSequenceClassification)\n",
    "    with torch.no_grad():\n",
    "        output = model(**inputs)\n",
    "        logits = output.logits  # SequenceClassifierOutput에서 logits 추출\n",
    "        pred = torch.argmax(logits, dim=-1).item()\n",
    "\n",
    "    # Small model (CustomBertSmall)\n",
    "    with torch.no_grad():\n",
    "        small_logits = small_model(**inputs)  # 직접 logits 반환\n",
    "        small_pred = torch.argmax(small_logits, dim=-1).item()\n",
    "    \n",
    "    correct_base += int(pred==label)\n",
    "    correct_small += int(small_pred == label)\n",
    "\n",
    "# 정확도 출력\n",
    "total = len(val_dataset)\n",
    "print(f\"\\n✅ Accuracy of Bertbase: {correct_base / total * 100:.2f}%\")\n",
    "print(f\"\\n✅ Accuracy of CustomBertSmall: {correct_small / total * 100:.2f}%\")"
   ]
  },
  {
   "cell_type": "code",
   "execution_count": 21,
   "metadata": {},
   "outputs": [
    {
     "name": "stderr",
     "output_type": "stream",
     "text": [
      "Layer 1: 100%|██████████| 3080/3080 [00:40<00:00, 75.43it/s]\n",
      "Layer 2: 100%|██████████| 3080/3080 [00:40<00:00, 75.77it/s]\n",
      "Layer 3: 100%|██████████| 3080/3080 [00:40<00:00, 75.65it/s]\n",
      "Layer 4: 100%|██████████| 3080/3080 [00:41<00:00, 75.08it/s]\n",
      "Layer 5: 100%|██████████| 3080/3080 [00:41<00:00, 74.99it/s]\n",
      "Layer 6: 100%|██████████| 3080/3080 [00:40<00:00, 75.18it/s]\n",
      "Layer 7: 100%|██████████| 3080/3080 [00:40<00:00, 75.70it/s]\n",
      "Layer 8: 100%|██████████| 3080/3080 [00:40<00:00, 75.71it/s]\n",
      "Layer 9: 100%|██████████| 3080/3080 [00:40<00:00, 75.62it/s]\n",
      "Layer 10: 100%|██████████| 3080/3080 [00:40<00:00, 75.28it/s]\n",
      "Layer 11: 100%|██████████| 3080/3080 [00:40<00:00, 75.90it/s]\n",
      "Layer 12: 100%|██████████| 3080/3080 [00:40<00:00, 75.36it/s]\n"
     ]
    }
   ],
   "source": [
    "# 정확도 저장 리스트\n",
    "acc_original = []\n",
    "acc_small = [0] * total_l  # ✅ small_model의 레이어 수만큼 정확도 저장\n",
    "\n",
    "for layer in range(1, 13):  # BERT-base: layer 1~12\n",
    "    correct_orig = 0\n",
    "    correct_small_by_layer = [0] * total_l  # 각 small layer의 정답 수\n",
    "    total = 0\n",
    "\n",
    "    for item in tqdm(val_dataset, desc=f\"Layer {layer}\"):\n",
    "        text = item[\"text\"]\n",
    "        label = item[\"label\"]\n",
    "        inputs = tokenizer(text, return_tensors=\"pt\", truncation=True, padding=True).to(device)\n",
    "\n",
    "        with torch.no_grad():\n",
    "            # BERT-base layer별 정확도\n",
    "            outputs = model(**inputs)\n",
    "            hidden = outputs.hidden_states[layer]\n",
    "            pooled = model.bert.pooler(hidden)\n",
    "            pooled_dropped = dropout(pooled)\n",
    "            logits_orig = model.classifier(pooled_dropped)\n",
    "            pred_orig = torch.argmax(logits_orig).item()\n",
    "\n",
    "            # small model: 전체 forward + hidden states\n",
    "            logits_small, small_hidden_states = small_model(**inputs, output_hidden_states=True)\n",
    "\n",
    "            for i, h in enumerate(small_hidden_states):\n",
    "                pooled_small = small_model.pooler(h)  # CLS 포함\n",
    "                pooled_small = dropout(pooled_small)\n",
    "                logits = small_model.classifier(pooled_small)\n",
    "                pred = torch.argmax(logits, dim=-1).item()\n",
    "                correct_small_by_layer[i] += int(pred == label)\n",
    "\n",
    "            correct_orig += int(pred_orig == label)\n",
    "            total += 1\n",
    "\n",
    "    acc_original.append(correct_orig / total)\n",
    "\n",
    "    # 마지막 layer 기준에서 정확도 누적 (1 epoch 끝났을 때만 기록됨)\n",
    "    if layer == 12:\n",
    "        acc_small = [c / total for c in correct_small_by_layer]"
   ]
  },
  {
   "cell_type": "code",
   "execution_count": 22,
   "metadata": {},
   "outputs": [
    {
     "data": {
      "text/plain": [
       "[0.013636363636363636,\n",
       " 0.013636363636363636,\n",
       " 0.013636363636363636,\n",
       " 0.01396103896103896,\n",
       " 0.01525974025974026,\n",
       " 0.016558441558441557,\n",
       " 0.05357142857142857,\n",
       " 0.05032467532467533,\n",
       " 0.16103896103896104,\n",
       " 0.6087662337662337,\n",
       " 0.9019480519480519,\n",
       " 0.937987012987013]"
      ]
     },
     "execution_count": 22,
     "metadata": {},
     "output_type": "execute_result"
    }
   ],
   "source": [
    "acc_original"
   ]
  },
  {
   "cell_type": "code",
   "execution_count": 23,
   "metadata": {},
   "outputs": [
    {
     "data": {
      "text/plain": [
       "[0.013636363636363636,\n",
       " 0.01525974025974026,\n",
       " 0.009415584415584415,\n",
       " 0.016233766233766232,\n",
       " 0.05551948051948052,\n",
       " 0.17597402597402598,\n",
       " 0.7204545454545455,\n",
       " 0.8944805194805194,\n",
       " 0.9178571428571428]"
      ]
     },
     "execution_count": 23,
     "metadata": {},
     "output_type": "execute_result"
    }
   ],
   "source": [
    "acc_small"
   ]
  },
  {
   "cell_type": "code",
   "execution_count": 24,
   "metadata": {},
   "outputs": [
    {
     "data": {
      "image/png": "[encoded data removed]",
      "text/plain": [
       "<Figure size 700x400 with 1 Axes>"
      ]
     },
     "metadata": {},
     "output_type": "display_data"
    }
   ],
   "source": [
    "plt.figure(figsize=(7, 4))\n",
    "plt.plot(range(1, 13), acc_original, label=\"BERT-base\", marker='o', linewidth=2)\n",
    "plt.plot(range(1, total_l + 1), acc_small, label=\"CustomBertSmall\", marker='x', linewidth=2)\n",
    "plt.xlabel(\"Layer Number\")\n",
    "plt.ylabel(\"Accuracy\")\n",
    "plt.title(\"Layer-wise Accuracy: BERT-base vs CustomBertSmall\")\n",
    "plt.legend()\n",
    "plt.grid(True)\n",
    "plt.xticks(range(1, 13))\n",
    "plt.ylim(0, 1.0)\n",
    "plt.tight_layout()\n",
    "plt.savefig(f\"img/{result_name}.png\", dpi=300)\n",
    "plt.show()"
   ]
  }
 ],
 "metadata": {
  "kernelspec": {
   "display_name": "Python 3",
   "language": "python",
   "name": "python3"
  },
  "language_info": {
   "codemirror_mode": {
    "name": "ipython",
    "version": 3
   },
   "file_extension": ".py",
   "mimetype": "text/x-python",
   "name": "python",
   "nbconvert_exporter": "python",
   "pygments_lexer": "ipython3",
   "version": "3.10.16"
  }
 },
 "nbformat": 4,
 "nbformat_minor": 2
}
