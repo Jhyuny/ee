{
 "cells": [
  {
   "cell_type": "code",
   "execution_count": 1,
   "metadata": {},
   "outputs": [
    {
     "name": "stderr",
     "output_type": "stream",
     "text": [
      "/home/aix7101/anaconda3/envs/j_knnee/lib/python3.10/site-packages/tqdm/auto.py:21: TqdmWarning: IProgress not found. Please update jupyter and ipywidgets. See https://ipywidgets.readthedocs.io/en/stable/user_install.html\n",
      "  from .autonotebook import tqdm as notebook_tqdm\n"
     ]
    }
   ],
   "source": [
    "from datasets import load_dataset\n",
    "from transformers import BertTokenizer, BertForSequenceClassification\n",
    "import torch\n",
    "import torch.nn as nn\n",
    "import pandas as pd\n",
    "from tqdm import tqdm\n",
    "import os\n",
    "\n",
    "import torch.optim as optim\n",
    "from transformers import BertTokenizer, BertModel\n",
    "\n",
    "import matplotlib.pyplot as plt"
   ]
  },
  {
   "cell_type": "code",
   "execution_count": 2,
   "metadata": {},
   "outputs": [],
   "source": [
    "trans = \"MLP\" # [Linear, MLP, ]\n",
    "loss_name = \"mse\" # [mse, mae, cosine]\n",
    "epoch_num = 10"
   ]
  },
  {
   "cell_type": "markdown",
   "metadata": {},
   "source": [
    "#### Define Translator"
   ]
  },
  {
   "cell_type": "code",
   "execution_count": 3,
   "metadata": {},
   "outputs": [],
   "source": [
    "# Case 1: Linear (Matrix)\n",
    "\n",
    "class LinearTranslator(nn.Module):\n",
    "    def __init__(self, dim):\n",
    "        super().__init__()\n",
    "        self.linear = nn.Linear(dim, dim, bias=False)\n",
    "\n",
    "    def forward(self, x):\n",
    "        return self.linear(x)"
   ]
  },
  {
   "cell_type": "code",
   "execution_count": 4,
   "metadata": {},
   "outputs": [],
   "source": [
    "# Case 2: MLP\n",
    "\n",
    "class MLPTranslator(nn.Module):\n",
    "    def __init__(self, dim, hidden_dim=1024):\n",
    "        super().__init__()\n",
    "        self.mlp = nn.Sequential(\n",
    "            nn.Linear(dim, hidden_dim),  # input → hidden layer\n",
    "            nn.ReLU(),                   # activation function\n",
    "            nn.Linear(hidden_dim, dim)   # hidden layer → output\n",
    "        )\n",
    "\n",
    "    def forward(self, x):\n",
    "        return self.mlp(x)"
   ]
  },
  {
   "cell_type": "code",
   "execution_count": 5,
   "metadata": {},
   "outputs": [],
   "source": [
    "# custom Loss\n",
    "def custom_loss(a,b):\n",
    "    \"\"\"\n",
    "    vector shape: (1,768)\n",
    "    a: apply translator\n",
    "    b: cls token of last layer\n",
    "    \"\"\""
   ]
  },
  {
   "cell_type": "code",
   "execution_count": 6,
   "metadata": {},
   "outputs": [],
   "source": [
    "# load train dataset\n",
    "train_dataset = load_dataset(\"glue\", \"sst2\", split=\"train\")\n",
    "\n",
    "# load validation dataset\n",
    "val_dataset = load_dataset(\"glue\", \"sst2\", split=\"validation\")"
   ]
  },
  {
   "cell_type": "code",
   "execution_count": 7,
   "metadata": {},
   "outputs": [],
   "source": [
    "# setting\n",
    "\n",
    "device = torch.device(\"cuda\" if torch.cuda.is_available() else \"cpu\")\n",
    "model_name = \"JeremiahZ/bert-base-uncased-sst2\"\n",
    "\n",
    "tokenizer = BertTokenizer.from_pretrained(model_name)\n",
    "model = BertForSequenceClassification.from_pretrained(model_name, output_hidden_states=True).eval().to(device)\n",
    "model.eval()\n",
    "\n",
    "dropout = nn.Dropout(p=0.1).to(device) # in BERT default 0.1"
   ]
  },
  {
   "cell_type": "code",
   "execution_count": 8,
   "metadata": {},
   "outputs": [],
   "source": [
    "if loss_name == \"mse\":\n",
    "    loss_fn = nn.MSELoss() # MSE\n",
    "elif loss_name == \"mae\":\n",
    "    loss_fn = nn.L1Loss() # MAE\n",
    "elif loss_name == \"cosine\":\n",
    "    cos_sim = nn.CosineSimilarity(dim=-1) \n",
    "    loss_fn = lambda x, y: 1 - cos_sim(x, y).mean() # cosine similarity"
   ]
  },
  {
   "cell_type": "code",
   "execution_count": 9,
   "metadata": {},
   "outputs": [],
   "source": [
    "if trans == \"Linear\":\n",
    "    translator = LinearTranslator(768).to(device)\n",
    "elif trans == \"MLP\":\n",
    "    translator = MLPTranslator(768).to(device)"
   ]
  },
  {
   "cell_type": "code",
   "execution_count": 10,
   "metadata": {},
   "outputs": [],
   "source": [
    "# set scheduler\n",
    "import torch.optim.lr_scheduler as lr_scheduler\n",
    "\n",
    "optimizer = optim.Adam(translator.parameters(), lr=1e-3)\n",
    "scheduler = lr_scheduler.StepLR(optimizer, step_size=2, gamma=0.1)"
   ]
  },
  {
   "cell_type": "code",
   "execution_count": 11,
   "metadata": {},
   "outputs": [
    {
     "name": "stderr",
     "output_type": "stream",
     "text": [
      "Epoch 1: 100%|██████████| 67349/67349 [24:57<00:00, 44.97it/s, batch_loss=0.202] \n"
     ]
    },
    {
     "name": "stdout",
     "output_type": "stream",
     "text": [
      "✅ Epoch 1 finished. Average Loss: 0.1763\n"
     ]
    },
    {
     "name": "stderr",
     "output_type": "stream",
     "text": [
      "Epoch 2: 100%|██████████| 67349/67349 [25:00<00:00, 44.88it/s, batch_loss=0.195] \n"
     ]
    },
    {
     "name": "stdout",
     "output_type": "stream",
     "text": [
      "✅ Epoch 2 finished. Average Loss: 0.1743\n"
     ]
    },
    {
     "name": "stderr",
     "output_type": "stream",
     "text": [
      "Epoch 3: 100%|██████████| 67349/67349 [25:04<00:00, 44.75it/s, batch_loss=0.174] \n"
     ]
    },
    {
     "name": "stdout",
     "output_type": "stream",
     "text": [
      "✅ Epoch 3 finished. Average Loss: 0.1739\n"
     ]
    },
    {
     "name": "stderr",
     "output_type": "stream",
     "text": [
      "Epoch 4: 100%|██████████| 67349/67349 [25:02<00:00, 44.83it/s, batch_loss=0.204] \n"
     ]
    },
    {
     "name": "stdout",
     "output_type": "stream",
     "text": [
      "✅ Epoch 4 finished. Average Loss: 0.1738\n"
     ]
    },
    {
     "name": "stderr",
     "output_type": "stream",
     "text": [
      "Epoch 5: 100%|██████████| 67349/67349 [24:53<00:00, 45.09it/s, batch_loss=0.181] \n"
     ]
    },
    {
     "name": "stdout",
     "output_type": "stream",
     "text": [
      "✅ Epoch 5 finished. Average Loss: 0.1738\n"
     ]
    },
    {
     "name": "stderr",
     "output_type": "stream",
     "text": [
      "Epoch 6: 100%|██████████| 67349/67349 [24:59<00:00, 44.90it/s, batch_loss=0.158] \n"
     ]
    },
    {
     "name": "stdout",
     "output_type": "stream",
     "text": [
      "✅ Epoch 6 finished. Average Loss: 0.1737\n"
     ]
    },
    {
     "name": "stderr",
     "output_type": "stream",
     "text": [
      "Epoch 7: 100%|██████████| 67349/67349 [24:53<00:00, 45.09it/s, batch_loss=0.167] \n"
     ]
    },
    {
     "name": "stdout",
     "output_type": "stream",
     "text": [
      "✅ Epoch 7 finished. Average Loss: 0.1737\n"
     ]
    },
    {
     "name": "stderr",
     "output_type": "stream",
     "text": [
      "Epoch 8: 100%|██████████| 67349/67349 [24:58<00:00, 44.94it/s, batch_loss=0.153] \n"
     ]
    },
    {
     "name": "stdout",
     "output_type": "stream",
     "text": [
      "✅ Epoch 8 finished. Average Loss: 0.1738\n"
     ]
    },
    {
     "name": "stderr",
     "output_type": "stream",
     "text": [
      "Epoch 9: 100%|██████████| 67349/67349 [24:59<00:00, 44.91it/s, batch_loss=0.18]  \n"
     ]
    },
    {
     "name": "stdout",
     "output_type": "stream",
     "text": [
      "✅ Epoch 9 finished. Average Loss: 0.1738\n"
     ]
    },
    {
     "name": "stderr",
     "output_type": "stream",
     "text": [
      "Epoch 10: 100%|██████████| 67349/67349 [24:45<00:00, 45.34it/s, batch_loss=0.195] \n"
     ]
    },
    {
     "name": "stdout",
     "output_type": "stream",
     "text": [
      "✅ Epoch 10 finished. Average Loss: 0.1738\n"
     ]
    }
   ],
   "source": [
    "# train\n",
    "\n",
    "for epoch in range(epoch_num):\n",
    "    loop = tqdm(train_dataset, desc=f\"Epoch {epoch + 1}\")\n",
    "    epoch_loss = 0\n",
    "    for item in loop:\n",
    "        text = item[\"sentence\"]\n",
    "        inputs = tokenizer(text, return_tensors=\"pt\", truncation=True, padding=True).to(device)\n",
    "\n",
    "        with torch.no_grad():\n",
    "            outputs = model(**inputs)\n",
    "            hidden_states = outputs.hidden_states\n",
    "            raw_h12 = hidden_states[12]  # 마지막 layer의 CLS 벡터\n",
    "            pooled_h12 = model.bert.pooler(raw_h12)     \n",
    "            h12 = dropout(pooled_h12)\n",
    "\n",
    "        total_loss = 0\n",
    "\n",
    "        for i in range(11):  # 1~11번째 layer\n",
    "            raw_h_i = hidden_states[i + 1]\n",
    "            pooled_h_i = model.bert.pooler(raw_h_i)     \n",
    "            h_i = dropout(pooled_h_i)\n",
    "\n",
    "            projected = translator(h_i.unsqueeze(0))\n",
    "            loss = loss_fn(projected, h12.unsqueeze(0))\n",
    "\n",
    "            translator.train()\n",
    "            optimizer.zero_grad()\n",
    "            loss.backward()\n",
    "            optimizer.step()\n",
    "\n",
    "            total_loss += loss.item()\n",
    "\n",
    "        avg_loss = total_loss / 11\n",
    "        epoch_loss += avg_loss\n",
    "        loop.set_postfix(batch_loss=avg_loss)\n",
    "\n",
    "    final_epoch_loss = epoch_loss / len(train_dataset)\n",
    "    print(f\"✅ Epoch {epoch + 1} finished. Average Loss: {final_epoch_loss:.4f}\")"
   ]
  },
  {
   "cell_type": "code",
   "execution_count": 12,
   "metadata": {},
   "outputs": [],
   "source": [
    "# save translator\n",
    "torch.save(translator.state_dict(), f\"translator/{trans}_{loss_name}_{epoch_num}.pt\")"
   ]
  },
  {
   "cell_type": "code",
   "execution_count": 13,
   "metadata": {},
   "outputs": [
    {
     "data": {
      "text/plain": [
       "BertForSequenceClassification(\n",
       "  (bert): BertModel(\n",
       "    (embeddings): BertEmbeddings(\n",
       "      (word_embeddings): Embedding(30522, 768, padding_idx=0)\n",
       "      (position_embeddings): Embedding(512, 768)\n",
       "      (token_type_embeddings): Embedding(2, 768)\n",
       "      (LayerNorm): LayerNorm((768,), eps=1e-12, elementwise_affine=True)\n",
       "      (dropout): Dropout(p=0.1, inplace=False)\n",
       "    )\n",
       "    (encoder): BertEncoder(\n",
       "      (layer): ModuleList(\n",
       "        (0-11): 12 x BertLayer(\n",
       "          (attention): BertAttention(\n",
       "            (self): BertSelfAttention(\n",
       "              (query): Linear(in_features=768, out_features=768, bias=True)\n",
       "              (key): Linear(in_features=768, out_features=768, bias=True)\n",
       "              (value): Linear(in_features=768, out_features=768, bias=True)\n",
       "              (dropout): Dropout(p=0.1, inplace=False)\n",
       "            )\n",
       "            (output): BertSelfOutput(\n",
       "              (dense): Linear(in_features=768, out_features=768, bias=True)\n",
       "              (LayerNorm): LayerNorm((768,), eps=1e-12, elementwise_affine=True)\n",
       "              (dropout): Dropout(p=0.1, inplace=False)\n",
       "            )\n",
       "          )\n",
       "          (intermediate): BertIntermediate(\n",
       "            (dense): Linear(in_features=768, out_features=3072, bias=True)\n",
       "            (intermediate_act_fn): GELUActivation()\n",
       "          )\n",
       "          (output): BertOutput(\n",
       "            (dense): Linear(in_features=3072, out_features=768, bias=True)\n",
       "            (LayerNorm): LayerNorm((768,), eps=1e-12, elementwise_affine=True)\n",
       "            (dropout): Dropout(p=0.1, inplace=False)\n",
       "          )\n",
       "        )\n",
       "      )\n",
       "    )\n",
       "    (pooler): BertPooler(\n",
       "      (dense): Linear(in_features=768, out_features=768, bias=True)\n",
       "      (activation): Tanh()\n",
       "    )\n",
       "  )\n",
       "  (dropout): Dropout(p=0.1, inplace=False)\n",
       "  (classifier): Linear(in_features=768, out_features=2, bias=True)\n",
       ")"
      ]
     },
     "execution_count": 13,
     "metadata": {},
     "output_type": "execute_result"
    }
   ],
   "source": [
    "# load model\n",
    "model_name = \"JeremiahZ/bert-base-uncased-sst2\"\n",
    "tokenizer = BertTokenizer.from_pretrained(model_name)\n",
    "model = BertForSequenceClassification.from_pretrained(model_name, output_hidden_states=True)\n",
    "model.eval()\n",
    "device = torch.device(\"cuda\" if torch.cuda.is_available() else \"cpu\")\n",
    "model.to(device)"
   ]
  },
  {
   "cell_type": "markdown",
   "metadata": {},
   "source": [
    "#### [check] outputs.logits vs model.classifier(final_hidden_cls_token)"
   ]
  },
  {
   "cell_type": "code",
   "execution_count": 14,
   "metadata": {},
   "outputs": [
    {
     "name": "stderr",
     "output_type": "stream",
     "text": [
      "Evaluating: 100%|██████████| 872/872 [00:05<00:00, 145.87it/s]"
     ]
    },
    {
     "name": "stdout",
     "output_type": "stream",
     "text": [
      "\n",
      "✅ Accuracy using model output: 93.23%\n",
      "✅ Accuracy using hidden state + classifier: 93.12%\n"
     ]
    },
    {
     "name": "stderr",
     "output_type": "stream",
     "text": [
      "\n"
     ]
    }
   ],
   "source": [
    "# pooling 적용하니까 해결\n",
    "\n",
    "# for accuracy\n",
    "correct_direct = 0\n",
    "correct_manual = 0\n",
    "\n",
    "for item in tqdm(val_dataset, desc=\"Evaluating\"):\n",
    "    text = item[\"sentence\"]\n",
    "    label = item[\"label\"]\n",
    "\n",
    "    # inputs\n",
    "    inputs = tokenizer(text, return_tensors=\"pt\", truncation=True, padding=True).to(device)\n",
    "\n",
    "    with torch.no_grad():\n",
    "        outputs = model(**inputs)\n",
    "        logits_direct = outputs.logits  # outputs.logits\n",
    "        pred_direct = torch.argmax(logits_direct, dim=-1).item()\n",
    "\n",
    "        # classifier\n",
    "        # final_hidden = outputs.hidden_states[-1][0][0].unsqueeze(0)  # batch=0, token=0 (CLS token)\n",
    "        final_hidden = outputs.hidden_states[-1]\n",
    "        pooled = model.bert.pooler(final_hidden)     \n",
    "        pooled_dropped = dropout(pooled)\n",
    "        logits_manual = model.classifier(pooled_dropped)  # classification head\n",
    "        pred_manual = torch.argmax(logits_manual, dim=-1).item()\n",
    "\n",
    "    # answer check\n",
    "    correct_direct += int(pred_direct == label)\n",
    "    correct_manual += int(pred_manual == label)\n",
    "\n",
    "# print accuracy\n",
    "total = len(val_dataset)\n",
    "print(f\"\\n✅ Accuracy using model output: {correct_direct / total * 100:.2f}%\")\n",
    "print(f\"✅ Accuracy using hidden state + classifier: {correct_manual / total * 100:.2f}%\")"
   ]
  },
  {
   "cell_type": "code",
   "execution_count": 15,
   "metadata": {},
   "outputs": [],
   "source": [
    "from IPython.core.interactiveshell import InteractiveShell\n",
    "InteractiveShell.ast_node_interactivity = \"all\""
   ]
  },
  {
   "cell_type": "code",
   "execution_count": 16,
   "metadata": {},
   "outputs": [],
   "source": [
    "if trans == \"Linear\":\n",
    "    translator = LinearTranslator(768).to(device)\n",
    "elif trans == \"MLP\":\n",
    "    translator = MLPTranslator(768).to(device)"
   ]
  },
  {
   "cell_type": "code",
   "execution_count": 17,
   "metadata": {},
   "outputs": [
    {
     "data": {
      "text/plain": [
       "BertForSequenceClassification(\n",
       "  (bert): BertModel(\n",
       "    (embeddings): BertEmbeddings(\n",
       "      (word_embeddings): Embedding(30522, 768, padding_idx=0)\n",
       "      (position_embeddings): Embedding(512, 768)\n",
       "      (token_type_embeddings): Embedding(2, 768)\n",
       "      (LayerNorm): LayerNorm((768,), eps=1e-12, elementwise_affine=True)\n",
       "      (dropout): Dropout(p=0.1, inplace=False)\n",
       "    )\n",
       "    (encoder): BertEncoder(\n",
       "      (layer): ModuleList(\n",
       "        (0-11): 12 x BertLayer(\n",
       "          (attention): BertAttention(\n",
       "            (self): BertSelfAttention(\n",
       "              (query): Linear(in_features=768, out_features=768, bias=True)\n",
       "              (key): Linear(in_features=768, out_features=768, bias=True)\n",
       "              (value): Linear(in_features=768, out_features=768, bias=True)\n",
       "              (dropout): Dropout(p=0.1, inplace=False)\n",
       "            )\n",
       "            (output): BertSelfOutput(\n",
       "              (dense): Linear(in_features=768, out_features=768, bias=True)\n",
       "              (LayerNorm): LayerNorm((768,), eps=1e-12, elementwise_affine=True)\n",
       "              (dropout): Dropout(p=0.1, inplace=False)\n",
       "            )\n",
       "          )\n",
       "          (intermediate): BertIntermediate(\n",
       "            (dense): Linear(in_features=768, out_features=3072, bias=True)\n",
       "            (intermediate_act_fn): GELUActivation()\n",
       "          )\n",
       "          (output): BertOutput(\n",
       "            (dense): Linear(in_features=3072, out_features=768, bias=True)\n",
       "            (LayerNorm): LayerNorm((768,), eps=1e-12, elementwise_affine=True)\n",
       "            (dropout): Dropout(p=0.1, inplace=False)\n",
       "          )\n",
       "        )\n",
       "      )\n",
       "    )\n",
       "    (pooler): BertPooler(\n",
       "      (dense): Linear(in_features=768, out_features=768, bias=True)\n",
       "      (activation): Tanh()\n",
       "    )\n",
       "  )\n",
       "  (dropout): Dropout(p=0.1, inplace=False)\n",
       "  (classifier): Linear(in_features=768, out_features=2, bias=True)\n",
       ")"
      ]
     },
     "execution_count": 17,
     "metadata": {},
     "output_type": "execute_result"
    },
    {
     "data": {
      "text/plain": [
       "<All keys matched successfully>"
      ]
     },
     "execution_count": 17,
     "metadata": {},
     "output_type": "execute_result"
    },
    {
     "data": {
      "text/plain": [
       "MLPTranslator(\n",
       "  (mlp): Sequential(\n",
       "    (0): Linear(in_features=768, out_features=1024, bias=True)\n",
       "    (1): ReLU()\n",
       "    (2): Linear(in_features=1024, out_features=768, bias=True)\n",
       "  )\n",
       ")"
      ]
     },
     "execution_count": 17,
     "metadata": {},
     "output_type": "execute_result"
    },
    {
     "name": "stderr",
     "output_type": "stream",
     "text": [
      "Layer 1: 100%|██████████| 872/872 [00:06<00:00, 143.94it/s]\n",
      "Layer 2: 100%|██████████| 872/872 [00:06<00:00, 143.40it/s]\n",
      "Layer 3: 100%|██████████| 872/872 [00:06<00:00, 143.30it/s]\n",
      "Layer 4: 100%|██████████| 872/872 [00:06<00:00, 143.34it/s]\n",
      "Layer 5: 100%|██████████| 872/872 [00:06<00:00, 143.19it/s]\n",
      "Layer 6: 100%|██████████| 872/872 [00:06<00:00, 143.03it/s]\n",
      "Layer 7: 100%|██████████| 872/872 [00:06<00:00, 142.42it/s]\n",
      "Layer 8: 100%|██████████| 872/872 [00:06<00:00, 142.67it/s]\n",
      "Layer 9: 100%|██████████| 872/872 [00:06<00:00, 142.97it/s]\n",
      "Layer 10: 100%|██████████| 872/872 [00:06<00:00, 142.92it/s]\n",
      "Layer 11: 100%|██████████| 872/872 [00:06<00:00, 142.72it/s]\n",
      "Layer 12: 100%|██████████| 872/872 [00:06<00:00, 143.41it/s]\n"
     ]
    },
    {
     "data": {
      "text/plain": [
       "<Figure size 1000x600 with 0 Axes>"
      ]
     },
     "execution_count": 17,
     "metadata": {},
     "output_type": "execute_result"
    },
    {
     "data": {
      "text/plain": [
       "[<matplotlib.lines.Line2D at 0x7fd97f68f070>]"
      ]
     },
     "execution_count": 17,
     "metadata": {},
     "output_type": "execute_result"
    },
    {
     "data": {
      "text/plain": [
       "[<matplotlib.lines.Line2D at 0x7fd97f68f460>]"
      ]
     },
     "execution_count": 17,
     "metadata": {},
     "output_type": "execute_result"
    },
    {
     "data": {
      "text/plain": [
       "Text(0.5, 0, 'Layer')"
      ]
     },
     "execution_count": 17,
     "metadata": {},
     "output_type": "execute_result"
    },
    {
     "data": {
      "text/plain": [
       "Text(0, 0.5, 'Accuracy')"
      ]
     },
     "execution_count": 17,
     "metadata": {},
     "output_type": "execute_result"
    },
    {
     "data": {
      "text/plain": [
       "Text(0.5, 1.0, 'Accuracy by Layer (SST-2)')"
      ]
     },
     "execution_count": 17,
     "metadata": {},
     "output_type": "execute_result"
    },
    {
     "data": {
      "text/plain": [
       "<matplotlib.legend.Legend at 0x7fd97f68f610>"
      ]
     },
     "execution_count": 17,
     "metadata": {},
     "output_type": "execute_result"
    },
    {
     "data": {
      "image/png": "[encoded data removed]",
      "text/plain": [
       "<Figure size 1000x600 with 1 Axes>"
      ]
     },
     "metadata": {},
     "output_type": "display_data"
    }
   ],
   "source": [
    "# 중간 레이어마다 Pooling + dropout 적용 (both bert and translator)\n",
    "\n",
    "# load model\n",
    "model_name = \"JeremiahZ/bert-base-uncased-sst2\"\n",
    "tokenizer = BertTokenizer.from_pretrained(model_name)\n",
    "model = BertForSequenceClassification.from_pretrained(model_name, output_hidden_states=True).eval()\n",
    "device = torch.device(\"cuda\" if torch.cuda.is_available() else \"cpu\")\n",
    "model.to(device)\n",
    "\n",
    "# load translator\n",
    "translator = translator.eval()\n",
    "translator.load_state_dict(torch.load(f\"translator/{trans}_{loss_name}_{epoch_num}.pt\"))\n",
    "translator.eval()\n",
    "\n",
    "# Accuracy 저장\n",
    "acc_original = []\n",
    "acc_translated = []\n",
    "\n",
    "# 레이어별로 정확도 계산\n",
    "for layer in range(1, 13):\n",
    "    correct_orig = 0\n",
    "    correct_trans = 0\n",
    "    total = 0\n",
    "\n",
    "    for item in tqdm(val_dataset, desc=f\"Layer {layer}\"):\n",
    "        text = item[\"sentence\"]\n",
    "        label = item[\"label\"]\n",
    "        inputs = tokenizer(text, return_tensors=\"pt\", truncation=True, padding=True).to(device)\n",
    "\n",
    "        with torch.no_grad():\n",
    "            outputs = model(**inputs)\n",
    "            hidden = outputs.hidden_states[layer]  # CLS 토큰\n",
    "            pooled = model.bert.pooler(hidden)\n",
    "\n",
    "            pooled_dropped = dropout(pooled)\n",
    "            logits_orig = model.classifier(pooled_dropped)\n",
    "            pred_orig = torch.argmax(logits_orig).item()\n",
    "\n",
    "            trans_pooled = translator(pooled)\n",
    "            trans_pooled_dropped = dropout(trans_pooled)\n",
    "            logits_trans = model.classifier(trans_pooled_dropped)\n",
    "            pred_trans = torch.argmax(logits_trans).item()\n",
    "\n",
    "            correct_orig += int(pred_orig == label)\n",
    "            correct_trans += int(pred_trans == label)\n",
    "            total += 1\n",
    "\n",
    "    acc_original.append(correct_orig / total)\n",
    "    acc_translated.append(correct_trans / total)\n",
    "\n",
    "# 그래프 시각화\n",
    "plt.figure(figsize=(10, 6))\n",
    "plt.plot(range(1, 13), acc_original, label=\"Original\", marker='o')\n",
    "plt.plot(range(1, 13), acc_translated, label=\"With Translator\", marker='o')\n",
    "plt.xlabel(\"Layer\")\n",
    "plt.ylabel(\"Accuracy\")\n",
    "plt.title(\"Accuracy by Layer (SST-2)\")\n",
    "plt.legend()\n",
    "plt.grid(True)\n",
    "\n",
    "# 저장\n",
    "plt.savefig(f\"img/{trans}_{loss_name}_{epoch_num}.png\", dpi=300)  # 원하는 파일명과 해상도 설정 가능\n",
    "\n",
    "plt.show()"
   ]
  },
  {
   "cell_type": "code",
   "execution_count": 20,
   "metadata": {},
   "outputs": [
    {
     "name": "stdout",
     "output_type": "stream",
     "text": [
      "Layer 0: 0.51%\n",
      "Layer 1: 0.50%\n",
      "Layer 2: 0.50%\n",
      "Layer 3: 0.49%\n",
      "Layer 4: 0.51%\n",
      "Layer 5: 0.53%\n",
      "Layer 6: 0.74%\n",
      "Layer 7: 0.82%\n",
      "Layer 8: 0.90%\n",
      "Layer 9: 0.93%\n",
      "Layer 10: 0.93%\n",
      "Layer 11: 0.93%\n"
     ]
    }
   ],
   "source": [
    "for i, acc in enumerate(acc_original):\n",
    "    print(f\"Layer {i}: {acc:.2f}%\")"
   ]
  },
  {
   "cell_type": "code",
   "execution_count": null,
   "metadata": {},
   "outputs": [],
   "source": []
  }
 ],
 "metadata": {
  "kernelspec": {
   "display_name": "Python 3",
   "language": "python",
   "name": "python3"
  },
  "language_info": {
   "codemirror_mode": {
    "name": "ipython",
    "version": 3
   },
   "file_extension": ".py",
   "mimetype": "text/x-python",
   "name": "python",
   "nbconvert_exporter": "python",
   "pygments_lexer": "ipython3",
   "version": "3.10.16"
  }
 },
 "nbformat": 4,
 "nbformat_minor": 2
}
