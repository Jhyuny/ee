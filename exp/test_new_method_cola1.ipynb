{
 "cells": [
  {
   "cell_type": "code",
   "execution_count": 1,
   "metadata": {},
   "outputs": [
    {
     "name": "stderr",
     "output_type": "stream",
     "text": [
      "/home/aix7101/anaconda3/envs/j_knnee/lib/python3.10/site-packages/tqdm/auto.py:21: TqdmWarning: IProgress not found. Please update jupyter and ipywidgets. See https://ipywidgets.readthedocs.io/en/stable/user_install.html\n",
      "  from .autonotebook import tqdm as notebook_tqdm\n"
     ]
    }
   ],
   "source": [
    "from datasets import load_dataset\n",
    "from transformers import BertModel, BertConfig, BertForSequenceClassification, BertTokenizer\n",
    "import torch\n",
    "import torch.nn as nn\n",
    "import pandas as pd\n",
    "from tqdm import tqdm\n",
    "import os\n",
    "\n",
    "import torch.optim as optim\n",
    "\n",
    "import matplotlib.pyplot as plt"
   ]
  },
  {
   "cell_type": "code",
   "execution_count": 2,
   "metadata": {},
   "outputs": [],
   "source": [
    "# parameters\n",
    "\n",
    "#-- setting custom model\n",
    "total_l = 6\n",
    "trans_l = 1\n",
    "base_model = \"bert-base-uncased\"\n",
    "model_name = \"textattack/bert-base-uncased-CoLA\"\n",
    " \n",
    "#-- setting result name\n",
    "result_name = \"cola_6_1\"\n",
    "model_save_path = f\"/mnt/aix7101/jeong/ee/{result_name}.pt\"\n",
    "\n",
    "#-- setting training\n",
    "train_strategy = \"low_lr\"  # 'freeze', 'low_lr', 'unfreeze'\n",
    "num_epoch = 10\n",
    "num_unfreeze = 3 "
   ]
  },
  {
   "cell_type": "code",
   "execution_count": 3,
   "metadata": {},
   "outputs": [],
   "source": [
    "db = load_dataset(\"glue\", \"cola\")"
   ]
  },
  {
   "cell_type": "code",
   "execution_count": 4,
   "metadata": {},
   "outputs": [
    {
     "name": "stdout",
     "output_type": "stream",
     "text": [
      "DatasetDict({\n",
      "    train: Dataset({\n",
      "        features: ['sentence', 'label', 'idx'],\n",
      "        num_rows: 8551\n",
      "    })\n",
      "    validation: Dataset({\n",
      "        features: ['sentence', 'label', 'idx'],\n",
      "        num_rows: 1043\n",
      "    })\n",
      "    test: Dataset({\n",
      "        features: ['sentence', 'label', 'idx'],\n",
      "        num_rows: 1063\n",
      "    })\n",
      "})\n"
     ]
    }
   ],
   "source": [
    "print(db)"
   ]
  },
  {
   "cell_type": "code",
   "execution_count": 5,
   "metadata": {},
   "outputs": [],
   "source": [
    "# load train dataset\n",
    "train_dataset = load_dataset(\"glue\", \"cola\", split=\"train\")\n",
    "\n",
    "# load validation dataset\n",
    "val_dataset = load_dataset(\"glue\", \"cola\", split=\"validation\")"
   ]
  },
  {
   "cell_type": "code",
   "execution_count": 6,
   "metadata": {},
   "outputs": [],
   "source": [
    "device = torch.device(\"cuda:1\" if torch.cuda.is_available() else \"cpu\")\n",
    "dropout = nn.Dropout(p=0.1).to(device) # in BERT default 0.1"
   ]
  },
  {
   "cell_type": "code",
   "execution_count": 7,
   "metadata": {},
   "outputs": [
    {
     "name": "stderr",
     "output_type": "stream",
     "text": [
      "/home/aix7101/anaconda3/envs/j_knnee/lib/python3.10/site-packages/torch/_utils.py:831: UserWarning: TypedStorage is deprecated. It will be removed in the future and UntypedStorage will be the only storage class. This should only matter to you if you are using storages directly.  To access UntypedStorage directly, use tensor.untyped_storage() instead of tensor.storage()\n",
      "  return self.fget.__get__(instance, owner)()\n"
     ]
    },
    {
     "data": {
      "text/plain": [
       "BertForSequenceClassification(\n",
       "  (bert): BertModel(\n",
       "    (embeddings): BertEmbeddings(\n",
       "      (word_embeddings): Embedding(30522, 768, padding_idx=0)\n",
       "      (position_embeddings): Embedding(512, 768)\n",
       "      (token_type_embeddings): Embedding(2, 768)\n",
       "      (LayerNorm): LayerNorm((768,), eps=1e-12, elementwise_affine=True)\n",
       "      (dropout): Dropout(p=0.1, inplace=False)\n",
       "    )\n",
       "    (encoder): BertEncoder(\n",
       "      (layer): ModuleList(\n",
       "        (0-11): 12 x BertLayer(\n",
       "          (attention): BertAttention(\n",
       "            (self): BertSelfAttention(\n",
       "              (query): Linear(in_features=768, out_features=768, bias=True)\n",
       "              (key): Linear(in_features=768, out_features=768, bias=True)\n",
       "              (value): Linear(in_features=768, out_features=768, bias=True)\n",
       "              (dropout): Dropout(p=0.1, inplace=False)\n",
       "            )\n",
       "            (output): BertSelfOutput(\n",
       "              (dense): Linear(in_features=768, out_features=768, bias=True)\n",
       "              (LayerNorm): LayerNorm((768,), eps=1e-12, elementwise_affine=True)\n",
       "              (dropout): Dropout(p=0.1, inplace=False)\n",
       "            )\n",
       "          )\n",
       "          (intermediate): BertIntermediate(\n",
       "            (dense): Linear(in_features=768, out_features=3072, bias=True)\n",
       "            (intermediate_act_fn): GELUActivation()\n",
       "          )\n",
       "          (output): BertOutput(\n",
       "            (dense): Linear(in_features=3072, out_features=768, bias=True)\n",
       "            (LayerNorm): LayerNorm((768,), eps=1e-12, elementwise_affine=True)\n",
       "            (dropout): Dropout(p=0.1, inplace=False)\n",
       "          )\n",
       "        )\n",
       "      )\n",
       "    )\n",
       "    (pooler): BertPooler(\n",
       "      (dense): Linear(in_features=768, out_features=768, bias=True)\n",
       "      (activation): Tanh()\n",
       "    )\n",
       "  )\n",
       "  (dropout): Dropout(p=0.1, inplace=False)\n",
       "  (classifier): Linear(in_features=768, out_features=2, bias=True)\n",
       ")"
      ]
     },
     "execution_count": 7,
     "metadata": {},
     "output_type": "execute_result"
    }
   ],
   "source": [
    "# setting\n",
    "tokenizer = BertTokenizer.from_pretrained(model_name)\n",
    "model = BertForSequenceClassification.from_pretrained(model_name, output_hidden_states=True).eval().to(device)\n",
    "model.eval()"
   ]
  },
  {
   "cell_type": "markdown",
   "metadata": {},
   "source": [
    "## Custom model"
   ]
  },
  {
   "cell_type": "code",
   "execution_count": 8,
   "metadata": {},
   "outputs": [],
   "source": [
    "from transformers import BertModel, BertConfig, BertForSequenceClassification\n",
    "import torch.nn as nn\n",
    "import torch\n",
    "\n",
    "class CustomBertSmall(nn.Module):\n",
    "    def __init__(self, teacher_model, total_layers=6, transplanted_layers=3):\n",
    "        super().__init__()\n",
    "        assert transplanted_layers < total_layers, \"Transplanted layers must be fewer than total layers\"\n",
    "        \n",
    "        self.hidden_size = teacher_model.config.hidden_size\n",
    "        self.total_layers = total_layers\n",
    "        self.transplanted_layers = transplanted_layers\n",
    "\n",
    "        # 그대로 복사할 레이어 인덱스 계산\n",
    "        transplanted_start = 12 - transplanted_layers\n",
    "        original_layer_indices = list(range(transplanted_start))[:total_layers - transplanted_layers]\n",
    "\n",
    "        # Embedding 복사\n",
    "        self.embeddings = teacher_model.bert.embeddings\n",
    "\n",
    "        # 선택된 layer만 복사해서 재구성\n",
    "        self.encoder_layers = nn.ModuleList()\n",
    "\n",
    "        for idx in original_layer_indices:\n",
    "            layer = teacher_model.bert.encoder.layer[idx]\n",
    "            self.encoder_layers.append(layer)\n",
    "\n",
    "        for idx in range(transplanted_start, 12):\n",
    "            layer = teacher_model.bert.encoder.layer[idx]\n",
    "            self.encoder_layers.append(layer)\n",
    "\n",
    "        # Pooler와 Classifier도 복사\n",
    "        self.pooler = teacher_model.bert.pooler\n",
    "        self.dropout = teacher_model.dropout  # from classifier head\n",
    "        self.classifier = teacher_model.classifier\n",
    "\n",
    "        self.activation = nn.Tanh()  # 여전히 pooler 내부에서도 사용되지만 보존\n",
    "\n",
    "    # CustomBertSmall에 hidden_states 옵션 추가\n",
    "    def forward(self, input_ids, attention_mask=None, token_type_ids=None, output_hidden_states=False):\n",
    "        hidden_states = self.embeddings(input_ids=input_ids, token_type_ids=token_type_ids)\n",
    "\n",
    "        if attention_mask is not None:\n",
    "            extended_attention_mask = attention_mask[:, None, None, :]\n",
    "            extended_attention_mask = (1.0 - extended_attention_mask) * -10000.0\n",
    "        else:\n",
    "            extended_attention_mask = None\n",
    "\n",
    "        all_hidden = []  # 각 레이어 출력 저장\n",
    "        for layer in self.encoder_layers:\n",
    "            hidden_states = layer(hidden_states, attention_mask=extended_attention_mask)[0]\n",
    "            if output_hidden_states:\n",
    "                all_hidden.append(hidden_states)\n",
    "\n",
    "        pooled_output = self.pooler(hidden_states)\n",
    "        pooled_output = self.dropout(self.activation(pooled_output))\n",
    "        logits = self.classifier(pooled_output)\n",
    "\n",
    "        if output_hidden_states:\n",
    "            return logits, all_hidden\n",
    "        else:\n",
    "            return logits"
   ]
  },
  {
   "cell_type": "code",
   "execution_count": 9,
   "metadata": {},
   "outputs": [
    {
     "name": "stderr",
     "output_type": "stream",
     "text": [
      "Some weights of BertForSequenceClassification were not initialized from the model checkpoint at bert-base-uncased and are newly initialized: ['classifier.bias', 'classifier.weight']\n",
      "You should probably TRAIN this model on a down-stream task to be able to use it for predictions and inference.\n"
     ]
    }
   ],
   "source": [
    "from transformers import AutoTokenizer, AutoModelForSequenceClassification\n",
    "\n",
    "# model_name = \"textattack/bert-base-uncased-ag-news\"\n",
    "\n",
    "teacher_model = BertForSequenceClassification.from_pretrained(base_model, num_labels=2)\n",
    "\n",
    "small_model = CustomBertSmall(\n",
    "    teacher_model=teacher_model,\n",
    "    total_layers=total_l,\n",
    "    transplanted_layers=trans_l,  # 마지막 l개 레이어 복사\n",
    ").to(device)"
   ]
  },
  {
   "cell_type": "markdown",
   "metadata": {},
   "source": [
    "## [check] before training"
   ]
  },
  {
   "cell_type": "code",
   "execution_count": 10,
   "metadata": {},
   "outputs": [
    {
     "name": "stderr",
     "output_type": "stream",
     "text": [
      "Evaluating Small Model (CoLA): 100%|██████████| 1043/1043 [00:16<00:00, 61.75it/s]\n"
     ]
    },
    {
     "name": "stdout",
     "output_type": "stream",
     "text": [
      "\n",
      "✅ MCC of BERT-base: 0.5339\n",
      "✅ MCC of CustomBertSmall: 0.0000\n"
     ]
    }
   ],
   "source": [
    "import evaluate\n",
    "\n",
    "mcc_metric = evaluate.load(\"matthews_correlation\")\n",
    "all_preds_base, all_preds_small, all_labels = [], [], []\n",
    "\n",
    "model.eval()\n",
    "small_model.eval()\n",
    "\n",
    "for item in tqdm(val_dataset, desc=\"Evaluating Small Model (CoLA)\"):\n",
    "    text = item[\"sentence\"]\n",
    "    label = item[\"label\"]\n",
    "    inputs = tokenizer(text, return_tensors=\"pt\", truncation=True, padding=True).to(device)\n",
    "\n",
    "    with torch.no_grad():\n",
    "        logits_base = model(**inputs).logits\n",
    "        logits_small = small_model(**inputs)\n",
    "\n",
    "    pred_base = torch.argmax(logits_base, dim=-1).item()\n",
    "    pred_small = torch.argmax(logits_small, dim=-1).item()\n",
    "\n",
    "    all_preds_base.append(pred_base)\n",
    "    all_preds_small.append(pred_small)\n",
    "    all_labels.append(label)\n",
    "\n",
    "# MCC 계산\n",
    "mcc_base = mcc_metric.compute(predictions=all_preds_base, references=all_labels)[\"matthews_correlation\"]\n",
    "mcc_small = mcc_metric.compute(predictions=all_preds_small, references=all_labels)[\"matthews_correlation\"]\n",
    "\n",
    "print(f\"\\n✅ MCC of BERT-base: {mcc_base:.4f}\")\n",
    "print(f\"✅ MCC of CustomBertSmall: {mcc_small:.4f}\")"
   ]
  },
  {
   "cell_type": "markdown",
   "metadata": {},
   "source": [
    "## Custom Loss"
   ]
  },
  {
   "cell_type": "code",
   "execution_count": 11,
   "metadata": {},
   "outputs": [],
   "source": [
    "import torch.nn.functional as F\n",
    "from torch.nn import MSELoss, KLDivLoss\n",
    "\n",
    "def loss1(logits, labels):\n",
    "    return F.cross_entropy(logits, labels)\n",
    "\n",
    "# Representation Matching Loss (MSE between CLS tokens)\n",
    "def loss2(student_hidden, teacher_hidden):\n",
    "    mse = MSELoss()\n",
    "    return mse(student_hidden, teacher_hidden)\n",
    "\n",
    "# DSR Loss (KL Divergence between sorted logits)\n",
    "def loss3(prev_logits, current_logits, tau=1.0):\n",
    "    z_prev = torch.sort(prev_logits, dim=-1)[0]\n",
    "    z_current = torch.sort(current_logits, dim=-1)[0]\n",
    "\n",
    "    p_prev = F.softmax(z_prev / tau, dim=-1)\n",
    "    p_current = F.log_softmax(z_current / tau, dim=-1)\n",
    "\n",
    "    kldiv = KLDivLoss(reduction='batchmean')\n",
    "    return (tau ** 2 / 2) * kldiv(p_current, p_prev)  # KL(p_prev || p_current)"
   ]
  },
  {
   "cell_type": "code",
   "execution_count": 12,
   "metadata": {},
   "outputs": [],
   "source": [
    "import torch\n",
    "import torch.nn.functional as F\n",
    "\n",
    "def compute_cka(X: torch.Tensor, Y: torch.Tensor, eps=1e-8):\n",
    "    X = X - X.mean(dim=0, keepdim=True)\n",
    "    Y = Y - Y.mean(dim=0, keepdim=True)\n",
    "\n",
    "    dot_product_similarity = (X.T @ Y).norm(p='fro') ** 2\n",
    "    normalization_x = (X.T @ X).norm(p='fro')\n",
    "    normalization_y = (Y.T @ Y).norm(p='fro')\n",
    "    return dot_product_similarity / (normalization_x * normalization_y + eps)\n",
    "\n",
    "def cka_delta_loss(h_teacher_bef, h_teacher_aft, h_student_bef, h_student_aft):\n",
    "    delta_t = h_teacher_aft - h_teacher_bef\n",
    "    delta_s = h_student_aft - h_student_bef\n",
    "    t = delta_t[:, 0, :]  # CLS\n",
    "    s = delta_s[:, 0, :]\n",
    "    return 1 - compute_cka(t, s)"
   ]
  },
  {
   "cell_type": "markdown",
   "metadata": {},
   "source": [
    "## Train"
   ]
  },
  {
   "cell_type": "code",
   "execution_count": 13,
   "metadata": {},
   "outputs": [],
   "source": [
    "import evaluate as ev\n",
    "\n",
    "def evaluate(model, val_loader, tokenizer, device):\n",
    "    model.eval()\n",
    "    all_preds = []\n",
    "    all_labels = []\n",
    "\n",
    "    with torch.no_grad():\n",
    "        for batch in tqdm(val_loader, desc=\"Evaluating\"):\n",
    "            text = batch[\"sentence\"][0]\n",
    "            label = batch[\"label\"].item()\n",
    "\n",
    "            inputs = tokenizer(text, return_tensors=\"pt\", padding=True, truncation=True).to(device)\n",
    "            logits = model(**inputs)\n",
    "            pred = torch.argmax(logits, dim=-1).item()\n",
    "\n",
    "            all_preds.append(pred)\n",
    "            all_labels.append(label)\n",
    "\n",
    "    # MCC metric 계산\n",
    "    mcc = ev.load(\"matthews_correlation\")\n",
    "    result = mcc.compute(predictions=all_preds, references=all_labels)\n",
    "\n",
    "    return result[\"matthews_correlation\"] * 100  # 퍼센트로 표현"
   ]
  },
  {
   "cell_type": "code",
   "execution_count": 14,
   "metadata": {},
   "outputs": [],
   "source": [
    "import torch\n",
    "from transformers import BertForSequenceClassification, AutoTokenizer\n",
    "import matplotlib.pyplot as plt\n",
    "from tqdm import tqdm\n",
    "import torch.nn as nn\n",
    "import torch.nn.functional as F\n",
    "from torch.utils.data import DataLoader\n",
    "from torch.optim import AdamW\n",
    "\n",
    "def train_custom_model(\n",
    "    model,\n",
    "    train_dataset,\n",
    "    val_dataset,\n",
    "    tokenizer,\n",
    "    teacher_model=None,  # 👈 custom loss를 쓸 경우 필요\n",
    "    custom_loss=False,   # 👈 Loss type 선택\n",
    "    strategy=\"freeze\",\n",
    "    batch_size=16,\n",
    "    epochs=10,\n",
    "    base_lr=5e-5,\n",
    "    low_lr=5e-6,\n",
    "    k=3,\n",
    "    alpha=0.3,           # 👈 custom loss 비중\n",
    "    unfreeze_epoch=1,\n",
    "    save_path=\"best_model.pt\",\n",
    "    device=\"cuda\" if torch.cuda.is_available() else \"cpu\"\n",
    "):\n",
    "    model = model.to(device)\n",
    "    # if torch.cuda.device_count() > 1:\n",
    "    #     print(f\"🔧 Using {torch.cuda.device_count()} GPUs with DataParallel\")\n",
    "    #     model = nn.DataParallel(model)\n",
    "    if custom_loss and teacher_model is None:\n",
    "        raise ValueError(\"teacher_model must be provided when using custom_loss=True\")\n",
    "\n",
    "    train_loader = DataLoader(train_dataset, batch_size=batch_size, shuffle=True)\n",
    "    val_loader = DataLoader(val_dataset, batch_size=1)\n",
    "\n",
    "    if strategy == \"low_lr\":\n",
    "        optimizer_grouped = [\n",
    "            {\"params\": [p for l in model.encoder_layers[:-k] for p in l.parameters()], \"lr\": base_lr},\n",
    "            {\"params\": [p for l in model.encoder_layers[-k:] for p in l.parameters()], \"lr\": low_lr},\n",
    "            {\"params\": model.pooler.parameters(), \"lr\": base_lr},\n",
    "            {\"params\": model.classifier.parameters(), \"lr\": base_lr},\n",
    "        ]\n",
    "    else:\n",
    "        optimizer_grouped = model.parameters()\n",
    "\n",
    "    optimizer = AdamW(optimizer_grouped, lr=base_lr)\n",
    "    loss_fn = nn.CrossEntropyLoss()\n",
    "\n",
    "    if strategy == \"freeze\":\n",
    "        for layer in model.encoder_layers[-k:]:\n",
    "            for param in layer.parameters():\n",
    "                param.requires_grad = False\n",
    "        ##-- freeze first layer\n",
    "        # for param in model.encoder_layers[0].parameters():\n",
    "        #     param.requires_grad = False\n",
    "\n",
    "    best_acc = 0.0\n",
    "\n",
    "    for epoch in range(epochs):\n",
    "        model.train()\n",
    "        total_loss = 0\n",
    "        print(f\"\\nEpoch {epoch+1}/{epochs}\")\n",
    "\n",
    "        if strategy == \"unfreeze\" and epoch == unfreeze_epoch:\n",
    "            print(\"--<Unfreezing last K layers>--\")\n",
    "            for layer in model.encoder_layers[-k:]:\n",
    "                for param in layer.parameters():\n",
    "                    param.requires_grad = True\n",
    "\n",
    "        for batch in tqdm(train_loader, desc=\"Training\"):\n",
    "            texts = batch[\"sentence\"]\n",
    "            labels = batch[\"label\"]\n",
    "\n",
    "            tokenized = tokenizer(list(texts), return_tensors=\"pt\", padding=True, truncation=True)\n",
    "            inputs = {k: v.to(device) for k, v in tokenized.items()}\n",
    "            labels = labels.to(device)\n",
    "\n",
    "            optimizer.zero_grad()\n",
    "\n",
    "            if custom_loss:\n",
    "                # ----> Custom Loss: CE + CKA delta loss\n",
    "                logits_small, student_hiddens = model(**inputs, output_hidden_states=True)\n",
    "                ce_loss = loss_fn(logits_small, labels)\n",
    "\n",
    "                with torch.no_grad():\n",
    "                    teacher_outputs = teacher_model(**inputs, output_hidden_states=True)\n",
    "                    h_teacher_bef = teacher_outputs.hidden_states[(-1)-(k+1)]\n",
    "                    h_teacher_aft = teacher_outputs.hidden_states[(-1)-k]\n",
    "\n",
    "                h_student_bef = student_hiddens[(-1)-(k+1)]\n",
    "                h_student_aft = student_hiddens[(-1)-k]\n",
    "\n",
    "                cka_loss = cka_delta_loss(h_teacher_bef, h_teacher_aft, h_student_bef, h_student_aft)\n",
    "                loss = ce_loss + alpha * cka_loss\n",
    "            else:\n",
    "                # ----> 기본 CE Loss만 사용\n",
    "                logits = model(**inputs)\n",
    "                loss = loss_fn(logits, labels)\n",
    "\n",
    "            loss.backward()\n",
    "            optimizer.step()\n",
    "            total_loss += loss.item()\n",
    "\n",
    "        avg_loss = total_loss / len(train_loader)\n",
    "        print(f\"Avg Training Loss: {avg_loss:.4f}\")\n",
    "\n",
    "        acc = evaluate(model, val_loader, tokenizer, device)\n",
    "        print(f\"Validation MCC: {acc:.2f}%\")\n",
    "\n",
    "        if acc > best_acc:\n",
    "            best_acc = acc\n",
    "            torch.save(model.state_dict(), save_path)\n",
    "            print(f\"✅ New best model saved with accuracy: {best_acc:.2f}% → {save_path}\")"
   ]
  },
  {
   "cell_type": "code",
   "execution_count": 15,
   "metadata": {},
   "outputs": [
    {
     "name": "stdout",
     "output_type": "stream",
     "text": [
      "\n",
      "Epoch 1/10\n"
     ]
    },
    {
     "name": "stderr",
     "output_type": "stream",
     "text": [
      "Training: 100%|██████████| 535/535 [00:24<00:00, 21.73it/s]\n"
     ]
    },
    {
     "name": "stdout",
     "output_type": "stream",
     "text": [
      "Avg Training Loss: 0.7122\n"
     ]
    },
    {
     "name": "stderr",
     "output_type": "stream",
     "text": [
      "Evaluating: 100%|██████████| 1043/1043 [00:07<00:00, 136.58it/s]\n"
     ]
    },
    {
     "name": "stdout",
     "output_type": "stream",
     "text": [
      "Validation MCC: 23.54%\n",
      "✅ New best model saved with accuracy: 23.54% → /mnt/aix7101/jeong/ee/cola_6_1.pt\n",
      "\n",
      "Epoch 2/10\n"
     ]
    },
    {
     "name": "stderr",
     "output_type": "stream",
     "text": [
      "Training: 100%|██████████| 535/535 [00:23<00:00, 22.64it/s]\n"
     ]
    },
    {
     "name": "stdout",
     "output_type": "stream",
     "text": [
      "Avg Training Loss: 0.5319\n"
     ]
    },
    {
     "name": "stderr",
     "output_type": "stream",
     "text": [
      "Evaluating: 100%|██████████| 1043/1043 [00:04<00:00, 212.75it/s]\n"
     ]
    },
    {
     "name": "stdout",
     "output_type": "stream",
     "text": [
      "Validation MCC: 30.76%\n",
      "✅ New best model saved with accuracy: 30.76% → /mnt/aix7101/jeong/ee/cola_6_1.pt\n",
      "\n",
      "Epoch 3/10\n"
     ]
    },
    {
     "name": "stderr",
     "output_type": "stream",
     "text": [
      "Training: 100%|██████████| 535/535 [00:19<00:00, 28.07it/s]\n"
     ]
    },
    {
     "name": "stdout",
     "output_type": "stream",
     "text": [
      "Avg Training Loss: 0.3391\n"
     ]
    },
    {
     "name": "stderr",
     "output_type": "stream",
     "text": [
      "Evaluating: 100%|██████████| 1043/1043 [00:07<00:00, 136.61it/s]\n"
     ]
    },
    {
     "name": "stdout",
     "output_type": "stream",
     "text": [
      "Validation MCC: 29.54%\n",
      "\n",
      "Epoch 4/10\n"
     ]
    },
    {
     "name": "stderr",
     "output_type": "stream",
     "text": [
      "Training: 100%|██████████| 535/535 [00:23<00:00, 22.71it/s]\n"
     ]
    },
    {
     "name": "stdout",
     "output_type": "stream",
     "text": [
      "Avg Training Loss: 0.2210\n"
     ]
    },
    {
     "name": "stderr",
     "output_type": "stream",
     "text": [
      "Evaluating: 100%|██████████| 1043/1043 [00:07<00:00, 136.01it/s]\n"
     ]
    },
    {
     "name": "stdout",
     "output_type": "stream",
     "text": [
      "Validation MCC: 36.83%\n",
      "✅ New best model saved with accuracy: 36.83% → /mnt/aix7101/jeong/ee/cola_6_1.pt\n",
      "\n",
      "Epoch 5/10\n"
     ]
    },
    {
     "name": "stderr",
     "output_type": "stream",
     "text": [
      "Training: 100%|██████████| 535/535 [00:23<00:00, 22.72it/s]\n"
     ]
    },
    {
     "name": "stdout",
     "output_type": "stream",
     "text": [
      "Avg Training Loss: 0.1574\n"
     ]
    },
    {
     "name": "stderr",
     "output_type": "stream",
     "text": [
      "Evaluating: 100%|██████████| 1043/1043 [00:07<00:00, 137.16it/s]\n"
     ]
    },
    {
     "name": "stdout",
     "output_type": "stream",
     "text": [
      "Validation MCC: 37.83%\n",
      "✅ New best model saved with accuracy: 37.83% → /mnt/aix7101/jeong/ee/cola_6_1.pt\n",
      "\n",
      "Epoch 6/10\n"
     ]
    },
    {
     "name": "stderr",
     "output_type": "stream",
     "text": [
      "Training: 100%|██████████| 535/535 [00:23<00:00, 22.68it/s]\n"
     ]
    },
    {
     "name": "stdout",
     "output_type": "stream",
     "text": [
      "Avg Training Loss: 0.1245\n"
     ]
    },
    {
     "name": "stderr",
     "output_type": "stream",
     "text": [
      "Evaluating: 100%|██████████| 1043/1043 [00:07<00:00, 136.78it/s]\n"
     ]
    },
    {
     "name": "stdout",
     "output_type": "stream",
     "text": [
      "Validation MCC: 34.30%\n",
      "\n",
      "Epoch 7/10\n"
     ]
    },
    {
     "name": "stderr",
     "output_type": "stream",
     "text": [
      "Training: 100%|██████████| 535/535 [00:23<00:00, 22.90it/s]\n"
     ]
    },
    {
     "name": "stdout",
     "output_type": "stream",
     "text": [
      "Avg Training Loss: 0.1127\n"
     ]
    },
    {
     "name": "stderr",
     "output_type": "stream",
     "text": [
      "Evaluating: 100%|██████████| 1043/1043 [00:07<00:00, 139.40it/s]\n"
     ]
    },
    {
     "name": "stdout",
     "output_type": "stream",
     "text": [
      "Validation MCC: 33.42%\n",
      "\n",
      "Epoch 8/10\n"
     ]
    },
    {
     "name": "stderr",
     "output_type": "stream",
     "text": [
      "Training: 100%|██████████| 535/535 [00:19<00:00, 26.84it/s]\n"
     ]
    },
    {
     "name": "stdout",
     "output_type": "stream",
     "text": [
      "Avg Training Loss: 0.0947\n"
     ]
    },
    {
     "name": "stderr",
     "output_type": "stream",
     "text": [
      "Evaluating: 100%|██████████| 1043/1043 [00:03<00:00, 262.61it/s]\n"
     ]
    },
    {
     "name": "stdout",
     "output_type": "stream",
     "text": [
      "Validation MCC: 34.90%\n",
      "\n",
      "Epoch 9/10\n"
     ]
    },
    {
     "name": "stderr",
     "output_type": "stream",
     "text": [
      "Training: 100%|██████████| 535/535 [00:17<00:00, 29.87it/s]\n"
     ]
    },
    {
     "name": "stdout",
     "output_type": "stream",
     "text": [
      "Avg Training Loss: 0.0852\n"
     ]
    },
    {
     "name": "stderr",
     "output_type": "stream",
     "text": [
      "Evaluating: 100%|██████████| 1043/1043 [00:03<00:00, 261.30it/s]\n"
     ]
    },
    {
     "name": "stdout",
     "output_type": "stream",
     "text": [
      "Validation MCC: 36.20%\n",
      "\n",
      "Epoch 10/10\n"
     ]
    },
    {
     "name": "stderr",
     "output_type": "stream",
     "text": [
      "Training: 100%|██████████| 535/535 [00:17<00:00, 29.97it/s]\n"
     ]
    },
    {
     "name": "stdout",
     "output_type": "stream",
     "text": [
      "Avg Training Loss: 0.0856\n"
     ]
    },
    {
     "name": "stderr",
     "output_type": "stream",
     "text": [
      "Evaluating: 100%|██████████| 1043/1043 [00:03<00:00, 262.15it/s]\n"
     ]
    },
    {
     "name": "stdout",
     "output_type": "stream",
     "text": [
      "Validation MCC: 35.80%\n"
     ]
    }
   ],
   "source": [
    "train_custom_model(\n",
    "    model=small_model,\n",
    "    teacher_model=model,   # 꼭 전달!\n",
    "    train_dataset=train_dataset,\n",
    "    val_dataset=val_dataset,\n",
    "    tokenizer=tokenizer,\n",
    "    custom_loss=True,              # ✅ 사용\n",
    "    alpha=0.3,                     # CKA 가중치\n",
    "    k=trans_l,\n",
    "    strategy=\"train_strategy\",\n",
    "    unfreeze_epoch=num_unfreeze,\n",
    "    epochs=num_epoch,\n",
    "    save_path=model_save_path,\n",
    "    device=device\n",
    ")"
   ]
  },
  {
   "cell_type": "markdown",
   "metadata": {},
   "source": [
    "## [check] after training"
   ]
  },
  {
   "cell_type": "code",
   "execution_count": 16,
   "metadata": {},
   "outputs": [],
   "source": [
    "# load model\n",
    "\n",
    "small_model.load_state_dict(torch.load(model_save_path, map_location=device))\n",
    "small_model = small_model.eval().to(device)\n"
   ]
  },
  {
   "cell_type": "code",
   "execution_count": 17,
   "metadata": {},
   "outputs": [
    {
     "name": "stderr",
     "output_type": "stream",
     "text": [
      "Evaluating Small Model (CoLA): 100%|██████████| 1043/1043 [00:10<00:00, 99.28it/s]"
     ]
    },
    {
     "name": "stdout",
     "output_type": "stream",
     "text": [
      "\n",
      "✅ MCC of BERT-base: 0.5339\n",
      "✅ MCC of CustomBertSmall: 0.3783\n"
     ]
    },
    {
     "name": "stderr",
     "output_type": "stream",
     "text": [
      "\n"
     ]
    }
   ],
   "source": [
    "import evaluate\n",
    "\n",
    "mcc_metric = evaluate.load(\"matthews_correlation\")\n",
    "all_preds_base, all_preds_small, all_labels = [], [], []\n",
    "\n",
    "model.eval()\n",
    "small_model.eval()\n",
    "\n",
    "for item in tqdm(val_dataset, desc=\"Evaluating Small Model (CoLA)\"):\n",
    "    text = item[\"sentence\"]\n",
    "    label = item[\"label\"]\n",
    "    inputs = tokenizer(text, return_tensors=\"pt\", truncation=True, padding=True).to(device)\n",
    "\n",
    "    with torch.no_grad():\n",
    "        logits_base = model(**inputs).logits\n",
    "        logits_small = small_model(**inputs)\n",
    "\n",
    "    pred_base = torch.argmax(logits_base, dim=-1).item()\n",
    "    pred_small = torch.argmax(logits_small, dim=-1).item()\n",
    "\n",
    "    all_preds_base.append(pred_base)\n",
    "    all_preds_small.append(pred_small)\n",
    "    all_labels.append(label)\n",
    "\n",
    "# MCC 계산\n",
    "mcc_base = mcc_metric.compute(predictions=all_preds_base, references=all_labels)[\"matthews_correlation\"]\n",
    "mcc_small = mcc_metric.compute(predictions=all_preds_small, references=all_labels)[\"matthews_correlation\"]\n",
    "\n",
    "print(f\"\\n✅ MCC of BERT-base: {mcc_base:.4f}\")\n",
    "print(f\"✅ MCC of CustomBertSmall: {mcc_small:.4f}\")"
   ]
  },
  {
   "cell_type": "code",
   "execution_count": 18,
   "metadata": {},
   "outputs": [
    {
     "name": "stderr",
     "output_type": "stream",
     "text": [
      "Layer 1: 100%|██████████| 1043/1043 [00:11<00:00, 91.21it/s]\n",
      "Layer 2: 100%|██████████| 1043/1043 [00:11<00:00, 92.65it/s]\n",
      "Layer 3: 100%|██████████| 1043/1043 [00:11<00:00, 92.83it/s]\n",
      "Layer 4: 100%|██████████| 1043/1043 [00:11<00:00, 92.17it/s]\n",
      "Layer 5: 100%|██████████| 1043/1043 [00:11<00:00, 91.98it/s]\n",
      "Layer 6: 100%|██████████| 1043/1043 [00:11<00:00, 87.58it/s]\n",
      "Layer 7: 100%|██████████| 1043/1043 [00:11<00:00, 91.32it/s]\n",
      "Layer 8: 100%|██████████| 1043/1043 [00:11<00:00, 90.94it/s]\n",
      "Layer 9: 100%|██████████| 1043/1043 [00:11<00:00, 91.34it/s]\n",
      "Layer 10: 100%|██████████| 1043/1043 [00:11<00:00, 91.62it/s]\n",
      "Layer 11: 100%|██████████| 1043/1043 [00:11<00:00, 92.13it/s]\n",
      "Layer 12: 100%|██████████| 1043/1043 [00:11<00:00, 92.17it/s]\n"
     ]
    }
   ],
   "source": [
    "import evaluate\n",
    "\n",
    "# MCC metric 로드\n",
    "mcc_metric = evaluate.load(\"matthews_correlation\")\n",
    "\n",
    "# MCC 저장 리스트\n",
    "mcc_original = []\n",
    "mcc_small = [0] * total_l  # small_model의 레이어 수만큼 MCC 저장\n",
    "\n",
    "for layer in range(1, 13):  # BERT-base: layer 1~12\n",
    "    preds_orig = []\n",
    "    labels = []\n",
    "\n",
    "    preds_small_by_layer = [[] for _ in range(total_l)]\n",
    "\n",
    "    for item in tqdm(val_dataset, desc=f\"Layer {layer}\"):\n",
    "        text = item[\"sentence\"]\n",
    "        label = item[\"label\"]\n",
    "        labels.append(label)\n",
    "\n",
    "        inputs = tokenizer(text, return_tensors=\"pt\", truncation=True, padding=True).to(device)\n",
    "\n",
    "        with torch.no_grad():\n",
    "            # BERT-base layer별 hidden state 사용\n",
    "            outputs = model(**inputs, output_hidden_states=True)\n",
    "            hidden = outputs.hidden_states[layer]\n",
    "            pooled = model.bert.pooler(hidden)\n",
    "            pooled_dropped = dropout(pooled)\n",
    "            logits_orig = model.classifier(pooled_dropped)\n",
    "            pred_orig = torch.argmax(logits_orig, dim=-1).item()\n",
    "            preds_orig.append(pred_orig)\n",
    "\n",
    "            # small model 모든 hidden state에서 MCC 평가\n",
    "            logits_small, small_hidden_states = small_model(**inputs, output_hidden_states=True)\n",
    "            for i, h in enumerate(small_hidden_states):\n",
    "                pooled_small = small_model.pooler(h)\n",
    "                pooled_small = dropout(pooled_small)\n",
    "                logits = small_model.classifier(pooled_small)\n",
    "                pred = torch.argmax(logits, dim=-1).item()\n",
    "                preds_small_by_layer[i].append(pred)\n",
    "\n",
    "    # MCC 계산\n",
    "    mcc_o = mcc_metric.compute(predictions=preds_orig, references=labels)[\"matthews_correlation\"]\n",
    "    mcc_original.append(mcc_o)\n",
    "\n",
    "    if layer == 12:\n",
    "        for i in range(total_l):\n",
    "            mcc_i = mcc_metric.compute(predictions=preds_small_by_layer[i], references=labels)[\"matthews_correlation\"]\n",
    "            mcc_small[i] = mcc_i"
   ]
  },
  {
   "cell_type": "code",
   "execution_count": 19,
   "metadata": {},
   "outputs": [
    {
     "data": {
      "text/plain": [
       "[0.0,\n",
       " 0.0,\n",
       " 0.0,\n",
       " 0.0,\n",
       " 0.0,\n",
       " 0.0,\n",
       " 0.0,\n",
       " 0.0,\n",
       " 0.0,\n",
       " 0.19409321068227886,\n",
       " 0.4566824750149941,\n",
       " 0.5311686988596115]"
      ]
     },
     "execution_count": 19,
     "metadata": {},
     "output_type": "execute_result"
    }
   ],
   "source": [
    "mcc_original"
   ]
  },
  {
   "cell_type": "code",
   "execution_count": 20,
   "metadata": {},
   "outputs": [
    {
     "data": {
      "text/plain": [
       "[0.0, 0.0, 0.0, 0.0, 0.34774097745904614, 0.37609038457898425]"
      ]
     },
     "execution_count": 20,
     "metadata": {},
     "output_type": "execute_result"
    }
   ],
   "source": [
    "mcc_small"
   ]
  },
  {
   "cell_type": "code",
   "execution_count": 21,
   "metadata": {},
   "outputs": [
    {
     "data": {
      "image/png": "[encoded data removed]",
      "text/plain": [
       "<Figure size 700x400 with 1 Axes>"
      ]
     },
     "metadata": {},
     "output_type": "display_data"
    }
   ],
   "source": [
    "plt.figure(figsize=(7, 4))\n",
    "plt.plot(range(1, 13), mcc_original, label=\"BERT-base\", marker='o', linewidth=2)\n",
    "plt.plot(range(1, total_l + 1), mcc_small, label=\"CustomBertSmall\", marker='x', linewidth=2)\n",
    "plt.xlabel(\"Layer Number\")\n",
    "plt.ylabel(\"Accuracy\")\n",
    "plt.title(\"Layer-wise Accuracy: BERT-base vs CustomBertSmall\")\n",
    "plt.legend()\n",
    "plt.grid(True)\n",
    "plt.xticks(range(1, 13))\n",
    "plt.ylim(0, 1.0)\n",
    "plt.tight_layout()\n",
    "plt.savefig(f\"/home/aix7101/jeong/ee/ours/codes/img/{result_name}.png\", dpi=300)\n",
    "plt.show()"
   ]
  },
  {
   "cell_type": "code",
   "execution_count": null,
   "metadata": {},
   "outputs": [],
   "source": []
  }
 ],
 "metadata": {
  "kernelspec": {
   "display_name": "Python 3",
   "language": "python",
   "name": "python3"
  },
  "language_info": {
   "codemirror_mode": {
    "name": "ipython",
    "version": 3
   },
   "file_extension": ".py",
   "mimetype": "text/x-python",
   "name": "python",
   "nbconvert_exporter": "python",
   "pygments_lexer": "ipython3",
   "version": "3.10.16"
  }
 },
 "nbformat": 4,
 "nbformat_minor": 2
}
